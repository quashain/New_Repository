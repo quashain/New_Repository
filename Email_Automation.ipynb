{
 "cells": [
  {
   "cell_type": "markdown",
   "metadata": {},
   "source": [
    "## SAP BLUEPRINT EMAIL CLASSIFICATION ##\n",
    "\n",
    " In this projcet I am going to used SAP Blueprint Archived emails to trained our model in process to predict the class\n",
    " of that email. Like we can predict the class in this case module of this email eg. CPL and BW.\n",
    " For the model simplicity currently I am usig only two modules Archived emails to trainded our model.\n",
    " \n",
    " "
   ]
  },
  {
   "cell_type": "markdown",
   "metadata": {},
   "source": [
    "#### Importing  needed libraries and packages.####"
   ]
  },
  {
   "cell_type": "code",
   "execution_count": 200,
   "metadata": {},
   "outputs": [],
   "source": [
    "import numpy as np\n",
    "import pandas as pd\n",
    "import matplotlib.pyplot as plt\n",
    "from collections import Counter\n",
    "from sklearn import feature_extraction, model_selection, naive_bayes, metrics, svm\n",
    "import warnings\n",
    "warnings.filterwarnings(\"ignore\")\n",
    "%matplotlib inline  "
   ]
  },
  {
   "cell_type": "markdown",
   "metadata": {},
   "source": [
    "Exported all SAP Blueprint archive email into Excel file name CPL_BW.xlsx in local machine."
   ]
  },
  {
   "cell_type": "code",
   "execution_count": 201,
   "metadata": {},
   "outputs": [],
   "source": [
    "# Read excel file CPL_BW into Pandas DataFrame name df_CB\n",
    "df_CB=pd.read_excel(\"C:\\\\Users\\\\quashain.khan\\\\Desktop\\\\CPL_BW.xlsx\")"
   ]
  },
  {
   "cell_type": "code",
   "execution_count": 202,
   "metadata": {},
   "outputs": [
    {
     "data": {
      "text/html": [
       "<div>\n",
       "<style scoped>\n",
       "    .dataframe tbody tr th:only-of-type {\n",
       "        vertical-align: middle;\n",
       "    }\n",
       "\n",
       "    .dataframe tbody tr th {\n",
       "        vertical-align: top;\n",
       "    }\n",
       "\n",
       "    .dataframe thead th {\n",
       "        text-align: right;\n",
       "    }\n",
       "</style>\n",
       "<table border=\"1\" class=\"dataframe\">\n",
       "  <thead>\n",
       "    <tr style=\"text-align: right;\">\n",
       "      <th></th>\n",
       "      <th>Subject</th>\n",
       "      <th>Body</th>\n",
       "      <th>Label</th>\n",
       "      <th>Substring</th>\n",
       "    </tr>\n",
       "  </thead>\n",
       "  <tbody>\n",
       "    <tr>\n",
       "      <th>0</th>\n",
       "      <td>RE: CAL1616114: URGENT: PB7 Access Not Visible</td>\n",
       "      <td>\\n\\n\\n\\n \\n\\nUser Access Request Process\\n\\n ...</td>\n",
       "      <td>BW</td>\n",
       "      <td>Subject: Your Blueprint PB7 Account is Inactiv...</td>\n",
       "    </tr>\n",
       "    <tr>\n",
       "      <th>1</th>\n",
       "      <td>SAP Crystal.PNG</td>\n",
       "      <td>NaN</td>\n",
       "      <td>BW</td>\n",
       "      <td>NaN</td>\n",
       "    </tr>\n",
       "    <tr>\n",
       "      <th>2</th>\n",
       "      <td>SAP PB7 DSO Failure in SNAP</td>\n",
       "      <td>Hi All,\\r\\n \\r\\nIt’s an high escalation Issue,...</td>\n",
       "      <td>BW</td>\n",
       "      <td>Hi All,\\r\\n \\r\\nIt’s an high escalation Issue,...</td>\n",
       "    </tr>\n",
       "    <tr>\n",
       "      <th>3</th>\n",
       "      <td>Blueprint CAB 15th September 2018 Monthly Bund...</td>\n",
       "      <td>Since 13th September is SBO holiday, Final CAB...</td>\n",
       "      <td>BW</td>\n",
       "      <td>Since 13th September is SBO holiday, Final CAB...</td>\n",
       "    </tr>\n",
       "    <tr>\n",
       "      <th>4</th>\n",
       "      <td>OpenText - Hyper Care Daily Call ( Scanning an...</td>\n",
       "      <td>Hi All,\\r\\n \\r\\nBlocking your time to discuss ...</td>\n",
       "      <td>BW</td>\n",
       "      <td>Hi All,\\r\\n \\r\\nBlocking your time to discuss ...</td>\n",
       "    </tr>\n",
       "  </tbody>\n",
       "</table>\n",
       "</div>"
      ],
      "text/plain": [
       "                                             Subject  \\\n",
       "0     RE: CAL1616114: URGENT: PB7 Access Not Visible   \n",
       "1                                    SAP Crystal.PNG   \n",
       "2                        SAP PB7 DSO Failure in SNAP   \n",
       "3  Blueprint CAB 15th September 2018 Monthly Bund...   \n",
       "4  OpenText - Hyper Care Daily Call ( Scanning an...   \n",
       "\n",
       "                                                Body Label  \\\n",
       "0   \\n\\n\\n\\n \\n\\nUser Access Request Process\\n\\n ...    BW   \n",
       "1                                                NaN    BW   \n",
       "2  Hi All,\\r\\n \\r\\nIt’s an high escalation Issue,...    BW   \n",
       "3  Since 13th September is SBO holiday, Final CAB...    BW   \n",
       "4  Hi All,\\r\\n \\r\\nBlocking your time to discuss ...    BW   \n",
       "\n",
       "                                           Substring  \n",
       "0  Subject: Your Blueprint PB7 Account is Inactiv...  \n",
       "1                                                NaN  \n",
       "2  Hi All,\\r\\n \\r\\nIt’s an high escalation Issue,...  \n",
       "3  Since 13th September is SBO holiday, Final CAB...  \n",
       "4  Hi All,\\r\\n \\r\\nBlocking your time to discuss ...  "
      ]
     },
     "execution_count": 202,
     "metadata": {},
     "output_type": "execute_result"
    }
   ],
   "source": [
    "# View top 5 eamil from df_CB data frame\n",
    "df_CB.head()"
   ]
  },
  {
   "cell_type": "code",
   "execution_count": 203,
   "metadata": {},
   "outputs": [
    {
     "data": {
      "text/html": [
       "<div>\n",
       "<style scoped>\n",
       "    .dataframe tbody tr th:only-of-type {\n",
       "        vertical-align: middle;\n",
       "    }\n",
       "\n",
       "    .dataframe tbody tr th {\n",
       "        vertical-align: top;\n",
       "    }\n",
       "\n",
       "    .dataframe thead th {\n",
       "        text-align: right;\n",
       "    }\n",
       "</style>\n",
       "<table border=\"1\" class=\"dataframe\">\n",
       "  <thead>\n",
       "    <tr style=\"text-align: right;\">\n",
       "      <th></th>\n",
       "      <th>Subject</th>\n",
       "      <th>Body</th>\n",
       "      <th>Label</th>\n",
       "      <th>Substring</th>\n",
       "    </tr>\n",
       "  </thead>\n",
       "  <tbody>\n",
       "    <tr>\n",
       "      <th>9246</th>\n",
       "      <td>Arrow : SAP P16  Update on ETA 4513353273 - PO...</td>\n",
       "      <td>Hi Team,\\r\\n\\r\\n \\r\\n\\r\\nPer this email trail,...</td>\n",
       "      <td>CPL</td>\n",
       "      <td>Subject: [EXTERNAL] Update on ETA 4513353273\\r...</td>\n",
       "    </tr>\n",
       "    <tr>\n",
       "      <th>9247</th>\n",
       "      <td>Brainware: Batches in Error</td>\n",
       "      <td>Hi MYSAP1- please create ticket for :\\r\\n\\r\\nS...</td>\n",
       "      <td>CPL</td>\n",
       "      <td>Hi MYSAP1- please create ticket for :\\r\\n\\r\\nS...</td>\n",
       "    </tr>\n",
       "    <tr>\n",
       "      <th>9248</th>\n",
       "      <td>Brainware: Batch in Error</td>\n",
       "      <td>Hi MYSAP1- please create ticket for :\\r\\n\\r\\nS...</td>\n",
       "      <td>CPL</td>\n",
       "      <td>Hi MYSAP1- please create ticket for :\\r\\n\\r\\nS...</td>\n",
       "    </tr>\n",
       "    <tr>\n",
       "      <th>9249</th>\n",
       "      <td>RE: WEB FORM - R3/BW - Walker, James (AUJWAH)</td>\n",
       "      <td>Hi, BP support.\\r\\n\\r\\n \\r\\n\\r\\nCan you please...</td>\n",
       "      <td>CPL</td>\n",
       "      <td>Subject: WEB FORM - R3/BW - Walker, James (AUJ...</td>\n",
       "    </tr>\n",
       "    <tr>\n",
       "      <th>9250</th>\n",
       "      <td>[Production] Notice - PI --&gt; BizTalk --&gt; SAP e...</td>\n",
       "      <td>Dear User/Team,\\r\\n\\r\\nPlease find below the d...</td>\n",
       "      <td>CPL</td>\n",
       "      <td>Dear User/Team,\\r\\n\\r\\nPlease find below the d...</td>\n",
       "    </tr>\n",
       "  </tbody>\n",
       "</table>\n",
       "</div>"
      ],
      "text/plain": [
       "                                                Subject  \\\n",
       "9246  Arrow : SAP P16  Update on ETA 4513353273 - PO...   \n",
       "9247                        Brainware: Batches in Error   \n",
       "9248                          Brainware: Batch in Error   \n",
       "9249      RE: WEB FORM - R3/BW - Walker, James (AUJWAH)   \n",
       "9250  [Production] Notice - PI --> BizTalk --> SAP e...   \n",
       "\n",
       "                                                   Body Label  \\\n",
       "9246  Hi Team,\\r\\n\\r\\n \\r\\n\\r\\nPer this email trail,...   CPL   \n",
       "9247  Hi MYSAP1- please create ticket for :\\r\\n\\r\\nS...   CPL   \n",
       "9248  Hi MYSAP1- please create ticket for :\\r\\n\\r\\nS...   CPL   \n",
       "9249  Hi, BP support.\\r\\n\\r\\n \\r\\n\\r\\nCan you please...   CPL   \n",
       "9250  Dear User/Team,\\r\\n\\r\\nPlease find below the d...   CPL   \n",
       "\n",
       "                                              Substring  \n",
       "9246  Subject: [EXTERNAL] Update on ETA 4513353273\\r...  \n",
       "9247  Hi MYSAP1- please create ticket for :\\r\\n\\r\\nS...  \n",
       "9248  Hi MYSAP1- please create ticket for :\\r\\n\\r\\nS...  \n",
       "9249  Subject: WEB FORM - R3/BW - Walker, James (AUJ...  \n",
       "9250  Dear User/Team,\\r\\n\\r\\nPlease find below the d...  "
      ]
     },
     "execution_count": 203,
     "metadata": {},
     "output_type": "execute_result"
    }
   ],
   "source": [
    "#View bottom 5 email from df_CB data Frame\n",
    "df_CB.tail(5)"
   ]
  },
  {
   "cell_type": "code",
   "execution_count": 204,
   "metadata": {},
   "outputs": [
    {
     "name": "stdout",
     "output_type": "stream",
     "text": [
      "<class 'pandas.core.frame.DataFrame'>\n",
      "RangeIndex: 9251 entries, 0 to 9250\n",
      "Data columns (total 4 columns):\n",
      "Subject      8760 non-null object\n",
      "Body         8977 non-null object\n",
      "Label        8780 non-null object\n",
      "Substring    8507 non-null object\n",
      "dtypes: object(4)\n",
      "memory usage: 289.2+ KB\n"
     ]
    }
   ],
   "source": [
    "#df_DB data frame information about number of columns and their data type\n",
    "df_CB.info()"
   ]
  },
  {
   "cell_type": "code",
   "execution_count": 205,
   "metadata": {},
   "outputs": [
    {
     "data": {
      "text/plain": [
       "Index(['Subject', 'Body', 'Label', 'Substring'], dtype='object')"
      ]
     },
     "execution_count": 205,
     "metadata": {},
     "output_type": "execute_result"
    }
   ],
   "source": [
    "# View name of features/columns .\n",
    "df_CB.columns"
   ]
  },
  {
   "cell_type": "code",
   "execution_count": 206,
   "metadata": {},
   "outputs": [],
   "source": [
    "# Since we need email body and class columns for model building, so we may drop rest columns.\n",
    "df_CB.drop(['Subject', 'Body'],axis = 1,inplace=True)"
   ]
  },
  {
   "cell_type": "code",
   "execution_count": 207,
   "metadata": {},
   "outputs": [],
   "source": [
    "#Rename the email Label with Label and Body with text\n",
    "df_CB=df_CB.rename(columns={'Label':\"class\",'Substring':\"text\"})"
   ]
  },
  {
   "cell_type": "code",
   "execution_count": 208,
   "metadata": {},
   "outputs": [
    {
     "data": {
      "text/html": [
       "<div>\n",
       "<style scoped>\n",
       "    .dataframe tbody tr th:only-of-type {\n",
       "        vertical-align: middle;\n",
       "    }\n",
       "\n",
       "    .dataframe tbody tr th {\n",
       "        vertical-align: top;\n",
       "    }\n",
       "\n",
       "    .dataframe thead th {\n",
       "        text-align: right;\n",
       "    }\n",
       "</style>\n",
       "<table border=\"1\" class=\"dataframe\">\n",
       "  <thead>\n",
       "    <tr style=\"text-align: right;\">\n",
       "      <th></th>\n",
       "      <th>class</th>\n",
       "      <th>text</th>\n",
       "    </tr>\n",
       "  </thead>\n",
       "  <tbody>\n",
       "    <tr>\n",
       "      <th>0</th>\n",
       "      <td>BW</td>\n",
       "      <td>Subject: Your Blueprint PB7 Account is Inactiv...</td>\n",
       "    </tr>\n",
       "    <tr>\n",
       "      <th>1</th>\n",
       "      <td>BW</td>\n",
       "      <td>NaN</td>\n",
       "    </tr>\n",
       "    <tr>\n",
       "      <th>2</th>\n",
       "      <td>BW</td>\n",
       "      <td>Hi All,\\r\\n \\r\\nIt’s an high escalation Issue,...</td>\n",
       "    </tr>\n",
       "    <tr>\n",
       "      <th>3</th>\n",
       "      <td>BW</td>\n",
       "      <td>Since 13th September is SBO holiday, Final CAB...</td>\n",
       "    </tr>\n",
       "    <tr>\n",
       "      <th>4</th>\n",
       "      <td>BW</td>\n",
       "      <td>Hi All,\\r\\n \\r\\nBlocking your time to discuss ...</td>\n",
       "    </tr>\n",
       "  </tbody>\n",
       "</table>\n",
       "</div>"
      ],
      "text/plain": [
       "  class                                               text\n",
       "0    BW  Subject: Your Blueprint PB7 Account is Inactiv...\n",
       "1    BW                                                NaN\n",
       "2    BW  Hi All,\\r\\n \\r\\nIt’s an high escalation Issue,...\n",
       "3    BW  Since 13th September is SBO holiday, Final CAB...\n",
       "4    BW  Hi All,\\r\\n \\r\\nBlocking your time to discuss ..."
      ]
     },
     "execution_count": 208,
     "metadata": {},
     "output_type": "execute_result"
    }
   ],
   "source": [
    "# View top 5 rows from df_CB data frame after renaming features.\n",
    "df_CB.head()"
   ]
  },
  {
   "cell_type": "code",
   "execution_count": 209,
   "metadata": {},
   "outputs": [],
   "source": [
    "# Count words length of each rows here each row represent unique email \n",
    "df_CB['word_len']=df_CB['text'].apply(lambda x: len(str(x).split(' ')))"
   ]
  },
  {
   "cell_type": "code",
   "execution_count": 210,
   "metadata": {},
   "outputs": [
    {
     "data": {
      "text/html": [
       "<div>\n",
       "<style scoped>\n",
       "    .dataframe tbody tr th:only-of-type {\n",
       "        vertical-align: middle;\n",
       "    }\n",
       "\n",
       "    .dataframe tbody tr th {\n",
       "        vertical-align: top;\n",
       "    }\n",
       "\n",
       "    .dataframe thead th {\n",
       "        text-align: right;\n",
       "    }\n",
       "</style>\n",
       "<table border=\"1\" class=\"dataframe\">\n",
       "  <thead>\n",
       "    <tr style=\"text-align: right;\">\n",
       "      <th></th>\n",
       "      <th>class</th>\n",
       "      <th>text</th>\n",
       "      <th>word_len</th>\n",
       "    </tr>\n",
       "  </thead>\n",
       "  <tbody>\n",
       "    <tr>\n",
       "      <th>0</th>\n",
       "      <td>BW</td>\n",
       "      <td>Subject: Your Blueprint PB7 Account is Inactiv...</td>\n",
       "      <td>106</td>\n",
       "    </tr>\n",
       "    <tr>\n",
       "      <th>1</th>\n",
       "      <td>BW</td>\n",
       "      <td>NaN</td>\n",
       "      <td>1</td>\n",
       "    </tr>\n",
       "    <tr>\n",
       "      <th>2</th>\n",
       "      <td>BW</td>\n",
       "      <td>Hi All,\\r\\n \\r\\nIt’s an high escalation Issue,...</td>\n",
       "      <td>299</td>\n",
       "    </tr>\n",
       "    <tr>\n",
       "      <th>3</th>\n",
       "      <td>BW</td>\n",
       "      <td>Since 13th September is SBO holiday, Final CAB...</td>\n",
       "      <td>159</td>\n",
       "    </tr>\n",
       "    <tr>\n",
       "      <th>4</th>\n",
       "      <td>BW</td>\n",
       "      <td>Hi All,\\r\\n \\r\\nBlocking your time to discuss ...</td>\n",
       "      <td>99</td>\n",
       "    </tr>\n",
       "  </tbody>\n",
       "</table>\n",
       "</div>"
      ],
      "text/plain": [
       "  class                                               text  word_len\n",
       "0    BW  Subject: Your Blueprint PB7 Account is Inactiv...       106\n",
       "1    BW                                                NaN         1\n",
       "2    BW  Hi All,\\r\\n \\r\\nIt’s an high escalation Issue,...       299\n",
       "3    BW  Since 13th September is SBO holiday, Final CAB...       159\n",
       "4    BW  Hi All,\\r\\n \\r\\nBlocking your time to discuss ...        99"
      ]
     },
     "execution_count": 210,
     "metadata": {},
     "output_type": "execute_result"
    }
   ],
   "source": [
    "df_CB.head()"
   ]
  },
  {
   "cell_type": "code",
   "execution_count": 211,
   "metadata": {},
   "outputs": [],
   "source": [
    "# Count number of chacracters exist in each email or row\n",
    "df_CB['char_len']=df_CB['text'].str.len()"
   ]
  },
  {
   "cell_type": "code",
   "execution_count": 212,
   "metadata": {},
   "outputs": [
    {
     "data": {
      "text/html": [
       "<div>\n",
       "<style scoped>\n",
       "    .dataframe tbody tr th:only-of-type {\n",
       "        vertical-align: middle;\n",
       "    }\n",
       "\n",
       "    .dataframe tbody tr th {\n",
       "        vertical-align: top;\n",
       "    }\n",
       "\n",
       "    .dataframe thead th {\n",
       "        text-align: right;\n",
       "    }\n",
       "</style>\n",
       "<table border=\"1\" class=\"dataframe\">\n",
       "  <thead>\n",
       "    <tr style=\"text-align: right;\">\n",
       "      <th></th>\n",
       "      <th>class</th>\n",
       "      <th>text</th>\n",
       "      <th>word_len</th>\n",
       "      <th>char_len</th>\n",
       "    </tr>\n",
       "  </thead>\n",
       "  <tbody>\n",
       "    <tr>\n",
       "      <th>0</th>\n",
       "      <td>BW</td>\n",
       "      <td>Subject: Your Blueprint PB7 Account is Inactiv...</td>\n",
       "      <td>106</td>\n",
       "      <td>670.0</td>\n",
       "    </tr>\n",
       "    <tr>\n",
       "      <th>1</th>\n",
       "      <td>BW</td>\n",
       "      <td>NaN</td>\n",
       "      <td>1</td>\n",
       "      <td>NaN</td>\n",
       "    </tr>\n",
       "    <tr>\n",
       "      <th>2</th>\n",
       "      <td>BW</td>\n",
       "      <td>Hi All,\\r\\n \\r\\nIt’s an high escalation Issue,...</td>\n",
       "      <td>299</td>\n",
       "      <td>1888.0</td>\n",
       "    </tr>\n",
       "    <tr>\n",
       "      <th>3</th>\n",
       "      <td>BW</td>\n",
       "      <td>Since 13th September is SBO holiday, Final CAB...</td>\n",
       "      <td>159</td>\n",
       "      <td>1114.0</td>\n",
       "    </tr>\n",
       "    <tr>\n",
       "      <th>4</th>\n",
       "      <td>BW</td>\n",
       "      <td>Hi All,\\r\\n \\r\\nBlocking your time to discuss ...</td>\n",
       "      <td>99</td>\n",
       "      <td>780.0</td>\n",
       "    </tr>\n",
       "  </tbody>\n",
       "</table>\n",
       "</div>"
      ],
      "text/plain": [
       "  class                                               text  word_len  char_len\n",
       "0    BW  Subject: Your Blueprint PB7 Account is Inactiv...       106     670.0\n",
       "1    BW                                                NaN         1       NaN\n",
       "2    BW  Hi All,\\r\\n \\r\\nIt’s an high escalation Issue,...       299    1888.0\n",
       "3    BW  Since 13th September is SBO holiday, Final CAB...       159    1114.0\n",
       "4    BW  Hi All,\\r\\n \\r\\nBlocking your time to discuss ...        99     780.0"
      ]
     },
     "execution_count": 212,
     "metadata": {},
     "output_type": "execute_result"
    }
   ],
   "source": [
    "df_CB.head()"
   ]
  },
  {
   "cell_type": "code",
   "execution_count": 213,
   "metadata": {},
   "outputs": [
    {
     "data": {
      "text/plain": [
       "471"
      ]
     },
     "execution_count": 213,
     "metadata": {},
     "output_type": "execute_result"
    }
   ],
   "source": [
    "# Count the number of null ,Nan , blank values exist in class column.\n",
    "len(df_CB[df_CB['class'].isnull()])"
   ]
  },
  {
   "cell_type": "code",
   "execution_count": 214,
   "metadata": {},
   "outputs": [
    {
     "data": {
      "text/plain": [
       "744"
      ]
     },
     "execution_count": 214,
     "metadata": {},
     "output_type": "execute_result"
    }
   ],
   "source": [
    "#Count the number of null ,Nan , blank values exist in email body (text)column.\n",
    "len(df_CB[df_CB['text'].isnull()])"
   ]
  },
  {
   "cell_type": "code",
   "execution_count": 215,
   "metadata": {},
   "outputs": [],
   "source": [
    "#We should drop all null values from the DataFrame in process to maintianed data consistency from row.\n",
    "df_CB.dropna(inplace=True)"
   ]
  },
  {
   "cell_type": "code",
   "execution_count": 216,
   "metadata": {},
   "outputs": [
    {
     "data": {
      "text/html": [
       "<div>\n",
       "<style scoped>\n",
       "    .dataframe tbody tr th:only-of-type {\n",
       "        vertical-align: middle;\n",
       "    }\n",
       "\n",
       "    .dataframe tbody tr th {\n",
       "        vertical-align: top;\n",
       "    }\n",
       "\n",
       "    .dataframe thead th {\n",
       "        text-align: right;\n",
       "    }\n",
       "</style>\n",
       "<table border=\"1\" class=\"dataframe\">\n",
       "  <thead>\n",
       "    <tr style=\"text-align: right;\">\n",
       "      <th></th>\n",
       "      <th>class</th>\n",
       "      <th>text</th>\n",
       "      <th>word_len</th>\n",
       "      <th>char_len</th>\n",
       "    </tr>\n",
       "  </thead>\n",
       "  <tbody>\n",
       "    <tr>\n",
       "      <th>0</th>\n",
       "      <td>BW</td>\n",
       "      <td>Subject: Your Blueprint PB7 Account is Inactiv...</td>\n",
       "      <td>106</td>\n",
       "      <td>670.0</td>\n",
       "    </tr>\n",
       "    <tr>\n",
       "      <th>2</th>\n",
       "      <td>BW</td>\n",
       "      <td>Hi All,\\r\\n \\r\\nIt’s an high escalation Issue,...</td>\n",
       "      <td>299</td>\n",
       "      <td>1888.0</td>\n",
       "    </tr>\n",
       "    <tr>\n",
       "      <th>3</th>\n",
       "      <td>BW</td>\n",
       "      <td>Since 13th September is SBO holiday, Final CAB...</td>\n",
       "      <td>159</td>\n",
       "      <td>1114.0</td>\n",
       "    </tr>\n",
       "    <tr>\n",
       "      <th>4</th>\n",
       "      <td>BW</td>\n",
       "      <td>Hi All,\\r\\n \\r\\nBlocking your time to discuss ...</td>\n",
       "      <td>99</td>\n",
       "      <td>780.0</td>\n",
       "    </tr>\n",
       "    <tr>\n",
       "      <th>5</th>\n",
       "      <td>BW</td>\n",
       "      <td>Hi All,\\r\\n \\r\\nBlocking your time to discuss ...</td>\n",
       "      <td>99</td>\n",
       "      <td>780.0</td>\n",
       "    </tr>\n",
       "  </tbody>\n",
       "</table>\n",
       "</div>"
      ],
      "text/plain": [
       "  class                                               text  word_len  char_len\n",
       "0    BW  Subject: Your Blueprint PB7 Account is Inactiv...       106     670.0\n",
       "2    BW  Hi All,\\r\\n \\r\\nIt’s an high escalation Issue,...       299    1888.0\n",
       "3    BW  Since 13th September is SBO holiday, Final CAB...       159    1114.0\n",
       "4    BW  Hi All,\\r\\n \\r\\nBlocking your time to discuss ...        99     780.0\n",
       "5    BW  Hi All,\\r\\n \\r\\nBlocking your time to discuss ...        99     780.0"
      ]
     },
     "execution_count": 216,
     "metadata": {},
     "output_type": "execute_result"
    }
   ],
   "source": [
    "df_CB.head()"
   ]
  },
  {
   "cell_type": "code",
   "execution_count": 217,
   "metadata": {},
   "outputs": [
    {
     "data": {
      "text/plain": [
       "0"
      ]
     },
     "execution_count": 217,
     "metadata": {},
     "output_type": "execute_result"
    }
   ],
   "source": [
    "#Checking null values After droping Nan/null from text column\n",
    "len(df_CB[df_CB['text'].isnull()])"
   ]
  },
  {
   "cell_type": "code",
   "execution_count": 218,
   "metadata": {},
   "outputs": [
    {
     "data": {
      "text/plain": [
       "0"
      ]
     },
     "execution_count": 218,
     "metadata": {},
     "output_type": "execute_result"
    }
   ],
   "source": [
    "#Checking null  values After droping Nan/null from column class after dropna\n",
    "len(df_CB[df_CB['class'].isnull()])"
   ]
  },
  {
   "cell_type": "code",
   "execution_count": 219,
   "metadata": {},
   "outputs": [],
   "source": [
    "#Reset the data frame index\n",
    "df_CB.reset_index(drop=True,inplace= True)"
   ]
  },
  {
   "cell_type": "code",
   "execution_count": 220,
   "metadata": {},
   "outputs": [
    {
     "data": {
      "text/html": [
       "<div>\n",
       "<style scoped>\n",
       "    .dataframe tbody tr th:only-of-type {\n",
       "        vertical-align: middle;\n",
       "    }\n",
       "\n",
       "    .dataframe tbody tr th {\n",
       "        vertical-align: top;\n",
       "    }\n",
       "\n",
       "    .dataframe thead th {\n",
       "        text-align: right;\n",
       "    }\n",
       "</style>\n",
       "<table border=\"1\" class=\"dataframe\">\n",
       "  <thead>\n",
       "    <tr style=\"text-align: right;\">\n",
       "      <th></th>\n",
       "      <th>class</th>\n",
       "      <th>text</th>\n",
       "      <th>word_len</th>\n",
       "      <th>char_len</th>\n",
       "    </tr>\n",
       "  </thead>\n",
       "  <tbody>\n",
       "    <tr>\n",
       "      <th>0</th>\n",
       "      <td>BW</td>\n",
       "      <td>Subject: Your Blueprint PB7 Account is Inactiv...</td>\n",
       "      <td>106</td>\n",
       "      <td>670.0</td>\n",
       "    </tr>\n",
       "    <tr>\n",
       "      <th>1</th>\n",
       "      <td>BW</td>\n",
       "      <td>Hi All,\\r\\n \\r\\nIt’s an high escalation Issue,...</td>\n",
       "      <td>299</td>\n",
       "      <td>1888.0</td>\n",
       "    </tr>\n",
       "    <tr>\n",
       "      <th>2</th>\n",
       "      <td>BW</td>\n",
       "      <td>Since 13th September is SBO holiday, Final CAB...</td>\n",
       "      <td>159</td>\n",
       "      <td>1114.0</td>\n",
       "    </tr>\n",
       "    <tr>\n",
       "      <th>3</th>\n",
       "      <td>BW</td>\n",
       "      <td>Hi All,\\r\\n \\r\\nBlocking your time to discuss ...</td>\n",
       "      <td>99</td>\n",
       "      <td>780.0</td>\n",
       "    </tr>\n",
       "    <tr>\n",
       "      <th>4</th>\n",
       "      <td>BW</td>\n",
       "      <td>Hi All,\\r\\n \\r\\nBlocking your time to discuss ...</td>\n",
       "      <td>99</td>\n",
       "      <td>780.0</td>\n",
       "    </tr>\n",
       "  </tbody>\n",
       "</table>\n",
       "</div>"
      ],
      "text/plain": [
       "  class                                               text  word_len  char_len\n",
       "0    BW  Subject: Your Blueprint PB7 Account is Inactiv...       106     670.0\n",
       "1    BW  Hi All,\\r\\n \\r\\nIt’s an high escalation Issue,...       299    1888.0\n",
       "2    BW  Since 13th September is SBO holiday, Final CAB...       159    1114.0\n",
       "3    BW  Hi All,\\r\\n \\r\\nBlocking your time to discuss ...        99     780.0\n",
       "4    BW  Hi All,\\r\\n \\r\\nBlocking your time to discuss ...        99     780.0"
      ]
     },
     "execution_count": 220,
     "metadata": {},
     "output_type": "execute_result"
    }
   ],
   "source": [
    "df_CB.head()"
   ]
  },
  {
   "cell_type": "code",
   "execution_count": 221,
   "metadata": {},
   "outputs": [
    {
     "data": {
      "text/plain": [
       "'Subject: Your Blueprint PB7 Account is Inactive\\n\\n \\n\\nDear Andy Calcagno,\\n\\n \\n\\nWe have noticed that you still have not logged on to PB7 for over\\n\\n60  days (since 09 January 2019).\\n\\nAccording to standard IT security management procedures your account will be locked if you fail to logon within 30  days.\\n\\n \\n\\nPlease logon as soon as possible to the system before\\n\\n09 April 2019, otherwise your access will be locked.\\n\\nUpon 120  days inactivity, your user account will be deleted.\\n\\nTo regain access, you will have to apply as new system user.\\n\\n \\n\\nFor Single Sign On users, you may logon to PB6 via the following link :https://sww-ep-online.europe.shell.com/irj/portal/\\n\\n \\n\\n \\n\\n'"
      ]
     },
     "execution_count": 221,
     "metadata": {},
     "output_type": "execute_result"
    }
   ],
   "source": [
    "# Since the email availabe in DataFrame so we can see the email content  or can read email here with the user of iloc objecct.\n",
    "df_CB.text.iloc[0]"
   ]
  },
  {
   "cell_type": "markdown",
   "metadata": {},
   "source": [
    "### Data Cleaning Stage  ###\n",
    "Since the emails are avilable in DataFrame now we can perform text cleaning process to make email readable \n",
    "or understanble to our model."
   ]
  },
  {
   "cell_type": "code",
   "execution_count": 222,
   "metadata": {},
   "outputs": [],
   "source": [
    "#Import NLP packages here to find some stop_words in our emails.\n",
    "import nltk\n",
    "from nltk.corpus import stopwords"
   ]
  },
  {
   "cell_type": "markdown",
   "metadata": {},
   "source": [
    "Since Stop_words does not make any sense to find the email objcetive.\n",
    "Remove the stop_words from the email text(Body)"
   ]
  },
  {
   "cell_type": "code",
   "execution_count": 287,
   "metadata": {},
   "outputs": [],
   "source": [
    "# Removing Stop_words here from DataFrame\n",
    "stop=stopwords.words(\"english\")\n",
    "df_CB['text']=df_CB['text'].apply(lambda x:' '.join( x for x in str(x).split(' ') if x not in stop))\n",
    "#stop"
   ]
  },
  {
   "cell_type": "code",
   "execution_count": 224,
   "metadata": {},
   "outputs": [],
   "source": [
    "# Checking if any stop_words still exist in  our DataFrame\n",
    "df_CB['stop_word']=df_CB['text'].apply(lambda x:' '.join( x for x in  str(x).split(' ') if x in stop))"
   ]
  },
  {
   "cell_type": "code",
   "execution_count": 225,
   "metadata": {},
   "outputs": [
    {
     "data": {
      "text/html": [
       "<div>\n",
       "<style scoped>\n",
       "    .dataframe tbody tr th:only-of-type {\n",
       "        vertical-align: middle;\n",
       "    }\n",
       "\n",
       "    .dataframe tbody tr th {\n",
       "        vertical-align: top;\n",
       "    }\n",
       "\n",
       "    .dataframe thead th {\n",
       "        text-align: right;\n",
       "    }\n",
       "</style>\n",
       "<table border=\"1\" class=\"dataframe\">\n",
       "  <thead>\n",
       "    <tr style=\"text-align: right;\">\n",
       "      <th></th>\n",
       "      <th>class</th>\n",
       "      <th>text</th>\n",
       "      <th>word_len</th>\n",
       "      <th>char_len</th>\n",
       "      <th>stop_word</th>\n",
       "    </tr>\n",
       "  </thead>\n",
       "  <tbody>\n",
       "    <tr>\n",
       "      <th>0</th>\n",
       "      <td>BW</td>\n",
       "      <td>Subject: Your Blueprint PB7 Account Inactive\\n...</td>\n",
       "      <td>106</td>\n",
       "      <td>670.0</td>\n",
       "      <td></td>\n",
       "    </tr>\n",
       "    <tr>\n",
       "      <th>1</th>\n",
       "      <td>BW</td>\n",
       "      <td>Hi All,\\r\\n \\r\\nIt’s high escalation Issue, St...</td>\n",
       "      <td>299</td>\n",
       "      <td>1888.0</td>\n",
       "      <td></td>\n",
       "    </tr>\n",
       "    <tr>\n",
       "      <th>2</th>\n",
       "      <td>BW</td>\n",
       "      <td>Since 13th September SBO holiday, Final CAB sc...</td>\n",
       "      <td>159</td>\n",
       "      <td>1114.0</td>\n",
       "      <td></td>\n",
       "    </tr>\n",
       "    <tr>\n",
       "      <th>3</th>\n",
       "      <td>BW</td>\n",
       "      <td>Hi All,\\r\\n \\r\\nBlocking time discuss OpenText...</td>\n",
       "      <td>99</td>\n",
       "      <td>780.0</td>\n",
       "      <td></td>\n",
       "    </tr>\n",
       "    <tr>\n",
       "      <th>4</th>\n",
       "      <td>BW</td>\n",
       "      <td>Hi All,\\r\\n \\r\\nBlocking time discuss OpenText...</td>\n",
       "      <td>99</td>\n",
       "      <td>780.0</td>\n",
       "      <td></td>\n",
       "    </tr>\n",
       "  </tbody>\n",
       "</table>\n",
       "</div>"
      ],
      "text/plain": [
       "  class                                               text  word_len  \\\n",
       "0    BW  Subject: Your Blueprint PB7 Account Inactive\\n...       106   \n",
       "1    BW  Hi All,\\r\\n \\r\\nIt’s high escalation Issue, St...       299   \n",
       "2    BW  Since 13th September SBO holiday, Final CAB sc...       159   \n",
       "3    BW  Hi All,\\r\\n \\r\\nBlocking time discuss OpenText...        99   \n",
       "4    BW  Hi All,\\r\\n \\r\\nBlocking time discuss OpenText...        99   \n",
       "\n",
       "   char_len stop_word  \n",
       "0     670.0            \n",
       "1    1888.0            \n",
       "2    1114.0            \n",
       "3     780.0            \n",
       "4     780.0            "
      ]
     },
     "execution_count": 225,
     "metadata": {},
     "output_type": "execute_result"
    }
   ],
   "source": [
    "df_CB.head()"
   ]
  },
  {
   "cell_type": "markdown",
   "metadata": {},
   "source": [
    "Since we are doing text cleaning or text mining ,we need to import string and re packages, So we can easily remove unwanted text,special charcters or alphanumeric characters"
   ]
  },
  {
   "cell_type": "code",
   "execution_count": 226,
   "metadata": {},
   "outputs": [],
   "source": [
    "# importing stirng and re packages.\n",
    "import string\n",
    "import re"
   ]
  },
  {
   "cell_type": "markdown",
   "metadata": {},
   "source": [
    "We can see in our DataFrame the email body has mixed of upper case and lower case characters.In process to maintained data consistency we will make all sentence of email body in lower case."
   ]
  },
  {
   "cell_type": "code",
   "execution_count": 227,
   "metadata": {},
   "outputs": [],
   "source": [
    "# Convert email body into lower case\n",
    "df_CB['text']=df_CB.text.str.lower()"
   ]
  },
  {
   "cell_type": "code",
   "execution_count": 228,
   "metadata": {},
   "outputs": [
    {
     "data": {
      "text/html": [
       "<div>\n",
       "<style scoped>\n",
       "    .dataframe tbody tr th:only-of-type {\n",
       "        vertical-align: middle;\n",
       "    }\n",
       "\n",
       "    .dataframe tbody tr th {\n",
       "        vertical-align: top;\n",
       "    }\n",
       "\n",
       "    .dataframe thead th {\n",
       "        text-align: right;\n",
       "    }\n",
       "</style>\n",
       "<table border=\"1\" class=\"dataframe\">\n",
       "  <thead>\n",
       "    <tr style=\"text-align: right;\">\n",
       "      <th></th>\n",
       "      <th>class</th>\n",
       "      <th>text</th>\n",
       "      <th>word_len</th>\n",
       "      <th>char_len</th>\n",
       "      <th>stop_word</th>\n",
       "    </tr>\n",
       "  </thead>\n",
       "  <tbody>\n",
       "    <tr>\n",
       "      <th>0</th>\n",
       "      <td>BW</td>\n",
       "      <td>subject: your blueprint pb7 account inactive\\n...</td>\n",
       "      <td>106</td>\n",
       "      <td>670.0</td>\n",
       "      <td></td>\n",
       "    </tr>\n",
       "    <tr>\n",
       "      <th>1</th>\n",
       "      <td>BW</td>\n",
       "      <td>hi all,\\r\\n \\r\\nit’s high escalation issue, st...</td>\n",
       "      <td>299</td>\n",
       "      <td>1888.0</td>\n",
       "      <td></td>\n",
       "    </tr>\n",
       "    <tr>\n",
       "      <th>2</th>\n",
       "      <td>BW</td>\n",
       "      <td>since 13th september sbo holiday, final cab sc...</td>\n",
       "      <td>159</td>\n",
       "      <td>1114.0</td>\n",
       "      <td></td>\n",
       "    </tr>\n",
       "    <tr>\n",
       "      <th>3</th>\n",
       "      <td>BW</td>\n",
       "      <td>hi all,\\r\\n \\r\\nblocking time discuss opentext...</td>\n",
       "      <td>99</td>\n",
       "      <td>780.0</td>\n",
       "      <td></td>\n",
       "    </tr>\n",
       "    <tr>\n",
       "      <th>4</th>\n",
       "      <td>BW</td>\n",
       "      <td>hi all,\\r\\n \\r\\nblocking time discuss opentext...</td>\n",
       "      <td>99</td>\n",
       "      <td>780.0</td>\n",
       "      <td></td>\n",
       "    </tr>\n",
       "  </tbody>\n",
       "</table>\n",
       "</div>"
      ],
      "text/plain": [
       "  class                                               text  word_len  \\\n",
       "0    BW  subject: your blueprint pb7 account inactive\\n...       106   \n",
       "1    BW  hi all,\\r\\n \\r\\nit’s high escalation issue, st...       299   \n",
       "2    BW  since 13th september sbo holiday, final cab sc...       159   \n",
       "3    BW  hi all,\\r\\n \\r\\nblocking time discuss opentext...        99   \n",
       "4    BW  hi all,\\r\\n \\r\\nblocking time discuss opentext...        99   \n",
       "\n",
       "   char_len stop_word  \n",
       "0     670.0            \n",
       "1    1888.0            \n",
       "2    1114.0            \n",
       "3     780.0            \n",
       "4     780.0            "
      ]
     },
     "execution_count": 228,
     "metadata": {},
     "output_type": "execute_result"
    }
   ],
   "source": [
    "df_CB.head()"
   ]
  },
  {
   "cell_type": "markdown",
   "metadata": {},
   "source": [
    "Now we can start our cleaning process , in email body you can see mixed of alpha numeric characters \\n \\t \\r text enclosed in [..]"
   ]
  },
  {
   "cell_type": "code",
   "execution_count": 296,
   "metadata": {},
   "outputs": [],
   "source": [
    "# Defining a function for Round1 cleaning...\n",
    "\n",
    "def clean_text_round1(text):\n",
    "    '''remove text in braket,remove punctuation and any words start with numeric '''\n",
    "    text=str(text).lower()\n",
    "    \n",
    "    text=re.sub('\\[.*?]',' ',text) # replace all special characters enclose in bracket with space\n",
    "    text=re.sub('[%s]' % re.escape(string.punctuation), ' ',text) # replace all text/words enclose in bracket with space\n",
    "    text=re.sub('w*\\d\\w*','',text) # replace all words start with numeric values  with space\n",
    "    return text\n",
    "round1=lambda x: clean_text_round1(x)"
   ]
  },
  {
   "cell_type": "code",
   "execution_count": 297,
   "metadata": {},
   "outputs": [],
   "source": [
    "# Moved into new DataFrame called df_clean\n",
    "df_clean=pd.DataFrame(df_CB.text.apply(round1))"
   ]
  },
  {
   "cell_type": "code",
   "execution_count": 298,
   "metadata": {},
   "outputs": [
    {
     "data": {
      "text/html": [
       "<div>\n",
       "<style scoped>\n",
       "    .dataframe tbody tr th:only-of-type {\n",
       "        vertical-align: middle;\n",
       "    }\n",
       "\n",
       "    .dataframe tbody tr th {\n",
       "        vertical-align: top;\n",
       "    }\n",
       "\n",
       "    .dataframe thead th {\n",
       "        text-align: right;\n",
       "    }\n",
       "</style>\n",
       "<table border=\"1\" class=\"dataframe\">\n",
       "  <thead>\n",
       "    <tr style=\"text-align: right;\">\n",
       "      <th></th>\n",
       "      <th>text</th>\n",
       "    </tr>\n",
       "  </thead>\n",
       "  <tbody>\n",
       "    <tr>\n",
       "      <th>0</th>\n",
       "      <td>subject  blueprint pb account inactive\\n\\n \\n\\...</td>\n",
       "    </tr>\n",
       "    <tr>\n",
       "      <th>1</th>\n",
       "      <td>hi all \\r\\n \\r\\nit’s high escalation issue  st...</td>\n",
       "    </tr>\n",
       "    <tr>\n",
       "      <th>2</th>\n",
       "      <td>since  september sbo holiday  final cab schedu...</td>\n",
       "    </tr>\n",
       "    <tr>\n",
       "      <th>3</th>\n",
       "      <td>hi all \\r\\n \\r\\nblocking time discuss opentext...</td>\n",
       "    </tr>\n",
       "    <tr>\n",
       "      <th>4</th>\n",
       "      <td>hi all \\r\\n \\r\\nblocking time discuss opentext...</td>\n",
       "    </tr>\n",
       "  </tbody>\n",
       "</table>\n",
       "</div>"
      ],
      "text/plain": [
       "                                                text\n",
       "0  subject  blueprint pb account inactive\\n\\n \\n\\...\n",
       "1  hi all \\r\\n \\r\\nit’s high escalation issue  st...\n",
       "2  since  september sbo holiday  final cab schedu...\n",
       "3  hi all \\r\\n \\r\\nblocking time discuss opentext...\n",
       "4  hi all \\r\\n \\r\\nblocking time discuss opentext..."
      ]
     },
     "execution_count": 298,
     "metadata": {},
     "output_type": "execute_result"
    }
   ],
   "source": [
    "# View the email text after first round of cleaning\n",
    "df_clean.head()"
   ]
  },
  {
   "cell_type": "code",
   "execution_count": 232,
   "metadata": {},
   "outputs": [],
   "source": [
    "# Defining another function for round2 cleaning process\n",
    "def clean_text_round2(text):\n",
    "    '''remove [''\"\"-] \\n\\r\\t form email body/text'''\n",
    "    text=str(text)\n",
    "    text=re.sub('[''\"\"-]','',text) ## replace all enclose specials  marks in bracket with space\n",
    "    text=re.sub('\\n',' ',text) # replace  \\n with space\n",
    "    text=re.sub('\\r',' ',text) # replace \\r with space\n",
    "    text=re.sub('\\t','',text)  # replace \\t with space\n",
    "    #text=re.sub('[\\w\\s]','',text)\n",
    "    #text=re.sub('[%s]' % re.escape(string.punctuation), ' ',text)\n",
    "    #text=re.sub('\\w*\\d\\w*','',text)\n",
    "    return text\n",
    "round2=lambda x: clean_text_round2(x)"
   ]
  },
  {
   "cell_type": "code",
   "execution_count": 233,
   "metadata": {},
   "outputs": [],
   "source": [
    "# Move into new DataFrame called df_clean2\n",
    "df_clean2=pd.DataFrame(df_clean.text.apply(round2))"
   ]
  },
  {
   "cell_type": "code",
   "execution_count": 234,
   "metadata": {},
   "outputs": [
    {
     "data": {
      "text/html": [
       "<div>\n",
       "<style scoped>\n",
       "    .dataframe tbody tr th:only-of-type {\n",
       "        vertical-align: middle;\n",
       "    }\n",
       "\n",
       "    .dataframe tbody tr th {\n",
       "        vertical-align: top;\n",
       "    }\n",
       "\n",
       "    .dataframe thead th {\n",
       "        text-align: right;\n",
       "    }\n",
       "</style>\n",
       "<table border=\"1\" class=\"dataframe\">\n",
       "  <thead>\n",
       "    <tr style=\"text-align: right;\">\n",
       "      <th></th>\n",
       "      <th>text</th>\n",
       "    </tr>\n",
       "  </thead>\n",
       "  <tbody>\n",
       "    <tr>\n",
       "      <th>0</th>\n",
       "      <td>subject  your blueprint pb account inactive   ...</td>\n",
       "    </tr>\n",
       "    <tr>\n",
       "      <th>1</th>\n",
       "      <td>hi all      it’s high escalation issue  still ...</td>\n",
       "    </tr>\n",
       "    <tr>\n",
       "      <th>2</th>\n",
       "      <td>since  september sbo holiday  final cab schedu...</td>\n",
       "    </tr>\n",
       "    <tr>\n",
       "      <th>3</th>\n",
       "      <td>hi all      blocking time discuss opentext pos...</td>\n",
       "    </tr>\n",
       "    <tr>\n",
       "      <th>4</th>\n",
       "      <td>hi all      blocking time discuss opentext pos...</td>\n",
       "    </tr>\n",
       "  </tbody>\n",
       "</table>\n",
       "</div>"
      ],
      "text/plain": [
       "                                                text\n",
       "0  subject  your blueprint pb account inactive   ...\n",
       "1  hi all      it’s high escalation issue  still ...\n",
       "2  since  september sbo holiday  final cab schedu...\n",
       "3  hi all      blocking time discuss opentext pos...\n",
       "4  hi all      blocking time discuss opentext pos..."
      ]
     },
     "execution_count": 234,
     "metadata": {},
     "output_type": "execute_result"
    }
   ],
   "source": [
    "# View the email text after second round of cleaning\n",
    "df_clean2.head()"
   ]
  },
  {
   "cell_type": "code",
   "execution_count": 235,
   "metadata": {},
   "outputs": [
    {
     "data": {
      "text/plain": [
       "'subject  your blueprint pb account inactive     dear andy calcagno      we noticed still logged pb over    days  since  january     according standard it security management procedures account locked fail logon within   days      please logon soon possible system before   april   otherwise access locked   upon   days inactivity  user account deleted   to regain access  apply new system user      for single sign on users  may logon pb via following link  https   sww ep online europe shell com irj portal         '"
      ]
     },
     "execution_count": 235,
     "metadata": {},
     "output_type": "execute_result"
    }
   ],
   "source": [
    "# We can see the fresh and understanble words in our email text after round of text cleaning\n",
    "df_clean2.text.iloc[0]"
   ]
  },
  {
   "cell_type": "markdown",
   "metadata": {},
   "source": [
    "Since after initial text cleaning we can see new words seperated from existing email body.\n",
    "We should check if any stop_words still exist in new DataFrame df_clean2"
   ]
  },
  {
   "cell_type": "code",
   "execution_count": 236,
   "metadata": {},
   "outputs": [],
   "source": [
    "#Checking any stop_words still exist in DataFrame df_clean2\n",
    "df_clean2['stop_word']=df_clean2['text'].apply(lambda x:' '.join( x for x in  str(x).split(' ') if x in stop))"
   ]
  },
  {
   "cell_type": "code",
   "execution_count": 237,
   "metadata": {},
   "outputs": [
    {
     "data": {
      "text/html": [
       "<div>\n",
       "<style scoped>\n",
       "    .dataframe tbody tr th:only-of-type {\n",
       "        vertical-align: middle;\n",
       "    }\n",
       "\n",
       "    .dataframe tbody tr th {\n",
       "        vertical-align: top;\n",
       "    }\n",
       "\n",
       "    .dataframe thead th {\n",
       "        text-align: right;\n",
       "    }\n",
       "</style>\n",
       "<table border=\"1\" class=\"dataframe\">\n",
       "  <thead>\n",
       "    <tr style=\"text-align: right;\">\n",
       "      <th></th>\n",
       "      <th>text</th>\n",
       "      <th>stop_word</th>\n",
       "      <th>class</th>\n",
       "    </tr>\n",
       "  </thead>\n",
       "  <tbody>\n",
       "    <tr>\n",
       "      <th>0</th>\n",
       "      <td>subject  your blueprint pb account inactive   ...</td>\n",
       "      <td>your we over it before to for on</td>\n",
       "      <td>BW</td>\n",
       "    </tr>\n",
       "    <tr>\n",
       "      <th>1</th>\n",
       "      <td>hi all      it’s high escalation issue  still ...</td>\n",
       "      <td>all to the not m in</td>\n",
       "      <td>BW</td>\n",
       "    </tr>\n",
       "    <tr>\n",
       "      <th>2</th>\n",
       "      <td>since  september sbo holiday  final cab schedu...</td>\n",
       "      <td>all this only in</td>\n",
       "      <td>BW</td>\n",
       "    </tr>\n",
       "    <tr>\n",
       "      <th>3</th>\n",
       "      <td>hi all      blocking time discuss opentext pos...</td>\n",
       "      <td>all we the the in</td>\n",
       "      <td>BW</td>\n",
       "    </tr>\n",
       "    <tr>\n",
       "      <th>4</th>\n",
       "      <td>hi all      blocking time discuss opentext pos...</td>\n",
       "      <td>all we the the in</td>\n",
       "      <td>BW</td>\n",
       "    </tr>\n",
       "  </tbody>\n",
       "</table>\n",
       "</div>"
      ],
      "text/plain": [
       "                                                text  \\\n",
       "0  subject  your blueprint pb account inactive   ...   \n",
       "1  hi all      it’s high escalation issue  still ...   \n",
       "2  since  september sbo holiday  final cab schedu...   \n",
       "3  hi all      blocking time discuss opentext pos...   \n",
       "4  hi all      blocking time discuss opentext pos...   \n",
       "\n",
       "                          stop_word class  \n",
       "0  your we over it before to for on    BW  \n",
       "1               all to the not m in    BW  \n",
       "2                  all this only in    BW  \n",
       "3                 all we the the in    BW  \n",
       "4                 all we the the in    BW  "
      ]
     },
     "execution_count": 237,
     "metadata": {},
     "output_type": "execute_result"
    }
   ],
   "source": [
    "# Adding class column  into df_clean2 DataFrame form df_CB DataFrame\n",
    "df_clean2['class']=df_CB['class']\n",
    "df_clean2.head()"
   ]
  },
  {
   "cell_type": "markdown",
   "metadata": {},
   "source": [
    "We cane see in DataFrame df_clean2 has new stop_words, so we should remove these stop_words as well from the df_clean2 DataFrame"
   ]
  },
  {
   "cell_type": "code",
   "execution_count": 238,
   "metadata": {},
   "outputs": [],
   "source": [
    "#Removing stop words again from the df_clean2 DataFrame\n",
    "df_clean2['text']=df_clean2['text'].apply(lambda x:' '.join( x for x in  str(x).split(' ') if x not in stop))"
   ]
  },
  {
   "cell_type": "code",
   "execution_count": 239,
   "metadata": {},
   "outputs": [],
   "source": [
    "# Here agian we can check if stop_words remove or not.\n",
    "\n",
    "df_clean2['stop_word']=df_clean2['text'].apply(lambda x:' '.join( x for x in  str(x).split(' ') if x  in stop))"
   ]
  },
  {
   "cell_type": "code",
   "execution_count": 240,
   "metadata": {},
   "outputs": [
    {
     "data": {
      "text/html": [
       "<div>\n",
       "<style scoped>\n",
       "    .dataframe tbody tr th:only-of-type {\n",
       "        vertical-align: middle;\n",
       "    }\n",
       "\n",
       "    .dataframe tbody tr th {\n",
       "        vertical-align: top;\n",
       "    }\n",
       "\n",
       "    .dataframe thead th {\n",
       "        text-align: right;\n",
       "    }\n",
       "</style>\n",
       "<table border=\"1\" class=\"dataframe\">\n",
       "  <thead>\n",
       "    <tr style=\"text-align: right;\">\n",
       "      <th></th>\n",
       "      <th>text</th>\n",
       "      <th>stop_word</th>\n",
       "      <th>class</th>\n",
       "    </tr>\n",
       "  </thead>\n",
       "  <tbody>\n",
       "    <tr>\n",
       "      <th>0</th>\n",
       "      <td>subject  blueprint pb account inactive     dea...</td>\n",
       "      <td></td>\n",
       "      <td>BW</td>\n",
       "    </tr>\n",
       "    <tr>\n",
       "      <th>1</th>\n",
       "      <td>hi      it’s high escalation issue  still fix ...</td>\n",
       "      <td></td>\n",
       "      <td>BW</td>\n",
       "    </tr>\n",
       "    <tr>\n",
       "      <th>2</th>\n",
       "      <td>since  september sbo holiday  final cab schedu...</td>\n",
       "      <td></td>\n",
       "      <td>BW</td>\n",
       "    </tr>\n",
       "    <tr>\n",
       "      <th>3</th>\n",
       "      <td>hi      blocking time discuss opentext post go...</td>\n",
       "      <td></td>\n",
       "      <td>BW</td>\n",
       "    </tr>\n",
       "    <tr>\n",
       "      <th>4</th>\n",
       "      <td>hi      blocking time discuss opentext post go...</td>\n",
       "      <td></td>\n",
       "      <td>BW</td>\n",
       "    </tr>\n",
       "  </tbody>\n",
       "</table>\n",
       "</div>"
      ],
      "text/plain": [
       "                                                text stop_word class\n",
       "0  subject  blueprint pb account inactive     dea...              BW\n",
       "1  hi      it’s high escalation issue  still fix ...              BW\n",
       "2  since  september sbo holiday  final cab schedu...              BW\n",
       "3  hi      blocking time discuss opentext post go...              BW\n",
       "4  hi      blocking time discuss opentext post go...              BW"
      ]
     },
     "execution_count": 240,
     "metadata": {},
     "output_type": "execute_result"
    }
   ],
   "source": [
    "df_clean2.head()"
   ]
  },
  {
   "cell_type": "code",
   "execution_count": 241,
   "metadata": {},
   "outputs": [
    {
     "data": {
      "text/plain": [
       "'subject  blueprint pb account inactive     dear andy calcagno      noticed still logged pb    days  since  january     according standard security management procedures account locked fail logon within   days      please logon soon possible system   april   otherwise access locked   upon   days inactivity  user account deleted   regain access  apply new system user      single sign users  may logon pb via following link  https   sww ep online europe shell com irj portal         '"
      ]
     },
     "execution_count": 241,
     "metadata": {},
     "output_type": "execute_result"
    }
   ],
   "source": [
    "# View row 1 or first email body content from the DataFrame df_clean2\n",
    "df_clean2.text.iloc[0]"
   ]
  },
  {
   "cell_type": "code",
   "execution_count": 242,
   "metadata": {},
   "outputs": [],
   "source": [
    "# Now again we doing cross checking for email body word length.\n",
    "\n",
    "df_clean2['word_len']=df_CB['text'].apply(lambda x: len(str(x).split(' ')))"
   ]
  },
  {
   "cell_type": "code",
   "execution_count": 243,
   "metadata": {},
   "outputs": [
    {
     "data": {
      "text/html": [
       "<div>\n",
       "<style scoped>\n",
       "    .dataframe tbody tr th:only-of-type {\n",
       "        vertical-align: middle;\n",
       "    }\n",
       "\n",
       "    .dataframe tbody tr th {\n",
       "        vertical-align: top;\n",
       "    }\n",
       "\n",
       "    .dataframe thead th {\n",
       "        text-align: right;\n",
       "    }\n",
       "</style>\n",
       "<table border=\"1\" class=\"dataframe\">\n",
       "  <thead>\n",
       "    <tr style=\"text-align: right;\">\n",
       "      <th></th>\n",
       "      <th>text</th>\n",
       "      <th>stop_word</th>\n",
       "      <th>class</th>\n",
       "      <th>word_len</th>\n",
       "    </tr>\n",
       "  </thead>\n",
       "  <tbody>\n",
       "    <tr>\n",
       "      <th>0</th>\n",
       "      <td>subject  blueprint pb account inactive     dea...</td>\n",
       "      <td></td>\n",
       "      <td>BW</td>\n",
       "      <td>72</td>\n",
       "    </tr>\n",
       "    <tr>\n",
       "      <th>1</th>\n",
       "      <td>hi      it’s high escalation issue  still fix ...</td>\n",
       "      <td></td>\n",
       "      <td>BW</td>\n",
       "      <td>243</td>\n",
       "    </tr>\n",
       "    <tr>\n",
       "      <th>2</th>\n",
       "      <td>since  september sbo holiday  final cab schedu...</td>\n",
       "      <td></td>\n",
       "      <td>BW</td>\n",
       "      <td>130</td>\n",
       "    </tr>\n",
       "    <tr>\n",
       "      <th>3</th>\n",
       "      <td>hi      blocking time discuss opentext post go...</td>\n",
       "      <td></td>\n",
       "      <td>BW</td>\n",
       "      <td>86</td>\n",
       "    </tr>\n",
       "    <tr>\n",
       "      <th>4</th>\n",
       "      <td>hi      blocking time discuss opentext post go...</td>\n",
       "      <td></td>\n",
       "      <td>BW</td>\n",
       "      <td>86</td>\n",
       "    </tr>\n",
       "  </tbody>\n",
       "</table>\n",
       "</div>"
      ],
      "text/plain": [
       "                                                text stop_word class  word_len\n",
       "0  subject  blueprint pb account inactive     dea...              BW        72\n",
       "1  hi      it’s high escalation issue  still fix ...              BW       243\n",
       "2  since  september sbo holiday  final cab schedu...              BW       130\n",
       "3  hi      blocking time discuss opentext post go...              BW        86\n",
       "4  hi      blocking time discuss opentext post go...              BW        86"
      ]
     },
     "execution_count": 243,
     "metadata": {},
     "output_type": "execute_result"
    }
   ],
   "source": [
    "df_clean2.head()"
   ]
  },
  {
   "cell_type": "code",
   "execution_count": 244,
   "metadata": {},
   "outputs": [
    {
     "name": "stdout",
     "output_type": "stream",
     "text": [
      "<class 'pandas.core.frame.DataFrame'>\n",
      "RangeIndex: 8507 entries, 0 to 8506\n",
      "Data columns (total 4 columns):\n",
      "text         8507 non-null object\n",
      "stop_word    8507 non-null object\n",
      "class        8507 non-null object\n",
      "word_len     8507 non-null int64\n",
      "dtypes: int64(1), object(3)\n",
      "memory usage: 265.9+ KB\n"
     ]
    }
   ],
   "source": [
    "# Checking new df_clean2 DataFrame information.\n",
    "\n",
    "df_clean2.info()"
   ]
  },
  {
   "cell_type": "markdown",
   "metadata": {},
   "source": [
    "Here we only need class and text features from the df_clean2 DataFrame, so we can create new DataFrame called df_final with columns text and class only."
   ]
  },
  {
   "cell_type": "code",
   "execution_count": 245,
   "metadata": {},
   "outputs": [],
   "source": [
    "# Creating new DataFrame df_final.\n",
    "\n",
    "df_final=pd.DataFrame(df_clean2[['text','class']])"
   ]
  },
  {
   "cell_type": "code",
   "execution_count": 246,
   "metadata": {},
   "outputs": [
    {
     "data": {
      "text/plain": [
       "CPL    6114\n",
       "BW     2393\n",
       "Name: class, dtype: int64"
      ]
     },
     "execution_count": 246,
     "metadata": {},
     "output_type": "execute_result"
    }
   ],
   "source": [
    "# Counting number of emails from each class.\n",
    "\n",
    "df_final['class'].value_counts()"
   ]
  },
  {
   "cell_type": "markdown",
   "metadata": {},
   "source": [
    "Here we are going to predict Binary class BW or CPL. In procees to predict the email class we may use few predictive model like Naive's Baye's, Logistic Regression etc. In process to predict the class we are mapping CPL and BW with 0 and 1.\n"
   ]
  },
  {
   "cell_type": "code",
   "execution_count": 247,
   "metadata": {},
   "outputs": [],
   "source": [
    "# mapping labels to 1 and 0\n",
    "df_final['label'] = df_final['class'].map({'CPL':0, 'BW':1})"
   ]
  },
  {
   "cell_type": "code",
   "execution_count": 248,
   "metadata": {},
   "outputs": [
    {
     "name": "stdout",
     "output_type": "stream",
     "text": [
      "<class 'pandas.core.frame.DataFrame'>\n",
      "RangeIndex: 8507 entries, 0 to 8506\n",
      "Data columns (total 3 columns):\n",
      "text     8507 non-null object\n",
      "class    8507 non-null object\n",
      "label    8507 non-null int64\n",
      "dtypes: int64(1), object(2)\n",
      "memory usage: 199.5+ KB\n"
     ]
    }
   ],
   "source": [
    "df_final.info()"
   ]
  },
  {
   "cell_type": "code",
   "execution_count": 249,
   "metadata": {},
   "outputs": [
    {
     "data": {
      "image/png": "[encoded data removed]",
      "text/plain": [
       "<Figure size 432x288 with 1 Axes>"
      ]
     },
     "metadata": {
      "needs_background": "light"
     },
     "output_type": "display_data"
    }
   ],
   "source": [
    "#Visualize the count of email for each class.\n",
    "\n",
    "count_Class=pd.value_counts(df_final['class'], sort= True)\n",
    "count_Class.plot(kind= 'bar', color= [\"blue\", \"orange\"])\n",
    "plt.title('Bar chart')\n",
    "plt.show()"
   ]
  },
  {
   "cell_type": "code",
   "execution_count": 250,
   "metadata": {},
   "outputs": [
    {
     "data": {
      "image/png": "[encoded data removed]",
      "text/plain": [
       "<Figure size 432x288 with 1 Axes>"
      ]
     },
     "metadata": {},
     "output_type": "display_data"
    }
   ],
   "source": [
    "#Visualize count of emails for each clas in pie chart.\n",
    "\n",
    "count_Class.plot(kind = 'pie',  autopct='%10.0f%%')\n",
    "plt.title('Pie chart')\n",
    "plt.ylabel('')\n",
    "plt.show()"
   ]
  },
  {
   "cell_type": "code",
   "execution_count": 251,
   "metadata": {},
   "outputs": [],
   "source": [
    "#Want to check most frequent words for CPl module\n",
    "#With the use of Counter function we can count most frequent words in each class.\n",
    "\n",
    "count1 = Counter(\" \".join(df_final[df_final['class']=='CPL'][\"text\"]).split()).most_common(30)\n",
    "df1 = pd.DataFrame.from_dict(count1)\n",
    "df1 = df1.rename(columns={0: \"words in cpl module\", 1 : \"count\"})\n",
    "count2 = Counter(\" \".join(df_final[df_final['class']=='BW'][\"text\"]).split()).most_common(30)\n",
    "df2 = pd.DataFrame.from_dict(count2)\n",
    "df2 = df2.rename(columns={0: \"words in BW module\", 1 : \"count_\"})\n"
   ]
  },
  {
   "cell_type": "code",
   "execution_count": 252,
   "metadata": {},
   "outputs": [
    {
     "data": {
      "text/html": [
       "<div>\n",
       "<style scoped>\n",
       "    .dataframe tbody tr th:only-of-type {\n",
       "        vertical-align: middle;\n",
       "    }\n",
       "\n",
       "    .dataframe tbody tr th {\n",
       "        vertical-align: top;\n",
       "    }\n",
       "\n",
       "    .dataframe thead th {\n",
       "        text-align: right;\n",
       "    }\n",
       "</style>\n",
       "<table border=\"1\" class=\"dataframe\">\n",
       "  <thead>\n",
       "    <tr style=\"text-align: right;\">\n",
       "      <th></th>\n",
       "      <th>words in cpl module</th>\n",
       "      <th>count</th>\n",
       "    </tr>\n",
       "  </thead>\n",
       "  <tbody>\n",
       "    <tr>\n",
       "      <th>0</th>\n",
       "      <td>shell</td>\n",
       "      <td>20719</td>\n",
       "    </tr>\n",
       "    <tr>\n",
       "      <th>1</th>\n",
       "      <td>com</td>\n",
       "      <td>20061</td>\n",
       "    </tr>\n",
       "    <tr>\n",
       "      <th>2</th>\n",
       "      <td>please</td>\n",
       "      <td>6434</td>\n",
       "    </tr>\n",
       "    <tr>\n",
       "      <th>3</th>\n",
       "      <td>subject</td>\n",
       "      <td>5019</td>\n",
       "    </tr>\n",
       "    <tr>\n",
       "      <th>4</th>\n",
       "      <td>team</td>\n",
       "      <td>4667</td>\n",
       "    </tr>\n",
       "  </tbody>\n",
       "</table>\n",
       "</div>"
      ],
      "text/plain": [
       "  words in cpl module  count\n",
       "0               shell  20719\n",
       "1                 com  20061\n",
       "2              please   6434\n",
       "3             subject   5019\n",
       "4                team   4667"
      ]
     },
     "execution_count": 252,
     "metadata": {},
     "output_type": "execute_result"
    }
   ],
   "source": [
    "df1.head()"
   ]
  },
  {
   "cell_type": "code",
   "execution_count": 253,
   "metadata": {},
   "outputs": [
    {
     "data": {
      "text/html": [
       "<div>\n",
       "<style scoped>\n",
       "    .dataframe tbody tr th:only-of-type {\n",
       "        vertical-align: middle;\n",
       "    }\n",
       "\n",
       "    .dataframe tbody tr th {\n",
       "        vertical-align: top;\n",
       "    }\n",
       "\n",
       "    .dataframe thead th {\n",
       "        text-align: right;\n",
       "    }\n",
       "</style>\n",
       "<table border=\"1\" class=\"dataframe\">\n",
       "  <thead>\n",
       "    <tr style=\"text-align: right;\">\n",
       "      <th></th>\n",
       "      <th>words in BW module</th>\n",
       "      <th>count_</th>\n",
       "    </tr>\n",
       "  </thead>\n",
       "  <tbody>\n",
       "    <tr>\n",
       "      <th>0</th>\n",
       "      <td>shell</td>\n",
       "      <td>4881</td>\n",
       "    </tr>\n",
       "    <tr>\n",
       "      <th>1</th>\n",
       "      <td>com</td>\n",
       "      <td>4507</td>\n",
       "    </tr>\n",
       "    <tr>\n",
       "      <th>2</th>\n",
       "      <td>pb</td>\n",
       "      <td>2380</td>\n",
       "    </tr>\n",
       "    <tr>\n",
       "      <th>3</th>\n",
       "      <td>please</td>\n",
       "      <td>2367</td>\n",
       "    </tr>\n",
       "    <tr>\n",
       "      <th>4</th>\n",
       "      <td>report</td>\n",
       "      <td>2336</td>\n",
       "    </tr>\n",
       "  </tbody>\n",
       "</table>\n",
       "</div>"
      ],
      "text/plain": [
       "  words in BW module  count_\n",
       "0              shell    4881\n",
       "1                com    4507\n",
       "2                 pb    2380\n",
       "3             please    2367\n",
       "4             report    2336"
      ]
     },
     "execution_count": 253,
     "metadata": {},
     "output_type": "execute_result"
    }
   ],
   "source": [
    "df2.head()"
   ]
  },
  {
   "cell_type": "code",
   "execution_count": 254,
   "metadata": {},
   "outputs": [
    {
     "data": {
      "image/png": "[encoded data removed]",
      "text/plain": [
       "<Figure size 432x288 with 1 Axes>"
      ]
     },
     "metadata": {
      "needs_background": "light"
     },
     "output_type": "display_data"
    }
   ],
   "source": [
    "#Visualization for 30 most frequent words in CPL module\n",
    "\n",
    "df1.plot.bar(legend = False)\n",
    "y_pos = np.arange(len(df1[\"words in cpl module\"]))\n",
    "plt.xticks(y_pos, df1[\"words in cpl module\"])\n",
    "plt.title('More frequent words in cpl')\n",
    "plt.xlabel('words')\n",
    "plt.ylabel('number')\n",
    "plt.show()\n"
   ]
  },
  {
   "cell_type": "code",
   "execution_count": 255,
   "metadata": {},
   "outputs": [
    {
     "data": {
      "image/png": "[encoded data removed]",
      "text/plain": [
       "<Figure size 432x288 with 1 Axes>"
      ]
     },
     "metadata": {
      "needs_background": "light"
     },
     "output_type": "display_data"
    }
   ],
   "source": [
    "#Visualization 30 most frequent words in BW module.\n",
    "\n",
    "df2.plot.bar(legend = False, color = 'orange')\n",
    "y_pos = np.arange(len(df2[\"words in BW module\"]))\n",
    "plt.xticks(y_pos, df2[\"words in BW module\"])\n",
    "plt.title('More frequent words in BW Emails')\n",
    "plt.xlabel('words')\n",
    "plt.ylabel('number')\n",
    "plt.show()\n"
   ]
  },
  {
   "cell_type": "markdown",
   "metadata": {},
   "source": [
    "#### Formating our df_final dataset to fit in our predictive model.\n",
    "\n",
    "It seems our df_final DataFrame text looks fine and ready to use in predictive model for email class prediction."
   ]
  },
  {
   "cell_type": "code",
   "execution_count": 256,
   "metadata": {},
   "outputs": [
    {
     "data": {
      "text/plain": [
       "pandas.core.series.Series"
      ]
     },
     "execution_count": 256,
     "metadata": {},
     "output_type": "execute_result"
    }
   ],
   "source": [
    "#Collecting X as email body and y as label i.e CPL and BW\n",
    "X=df_final.text\n",
    "y=df_final.label\n",
    "type(X)\n",
    "type(y)"
   ]
  },
  {
   "cell_type": "code",
   "execution_count": 257,
   "metadata": {},
   "outputs": [
    {
     "name": "stdout",
     "output_type": "stream",
     "text": [
      "(8507,)\n",
      "(8507,)\n"
     ]
    }
   ],
   "source": [
    "#Check the shape of X and y.\n",
    "\n",
    "print(X.shape)\n",
    "print(y.shape)"
   ]
  },
  {
   "cell_type": "markdown",
   "metadata": {},
   "source": [
    "### Creating train and test dataset.\n",
    "Train/Test Split involves splitting the dataset into training and\n",
    "testing sets respectively, which are mutually exclusive. After which, you train with the training\n",
    "set and test with the testing set. This will provide a more accurate evaluation on out-of-sample\n",
    "accuracy because the testing dataset is not part of the dataset that have been used to train the data.\n",
    "It is more realistic for real world problems.\n",
    "This means that we know the outcome of each data point in this dataset, making it great to test\n",
    "with! And since this data has not been used to train the model, the model has no knowledge of\n",
    "the outcome of these data points. So, in essence, it’s truly an out-of-sample testing."
   ]
  },
  {
   "cell_type": "code",
   "execution_count": 258,
   "metadata": {},
   "outputs": [],
   "source": [
    "#Importing train_test_split from sklearn.model_selection in process to split dataset into test and train\n",
    "\n",
    "from sklearn.model_selection  import train_test_split"
   ]
  },
  {
   "cell_type": "code",
   "execution_count": 259,
   "metadata": {},
   "outputs": [],
   "source": [
    "# Spliting dataset into X_train, X_test,y_train,y_test in ratio 70:30 percent in number of rows.\n",
    "\n",
    "X_train, X_test, y_train, y_test = train_test_split(X, y,test_size=0.3, random_state=1)"
   ]
  },
  {
   "cell_type": "code",
   "execution_count": 260,
   "metadata": {},
   "outputs": [
    {
     "data": {
      "text/plain": [
       "5954"
      ]
     },
     "execution_count": 260,
     "metadata": {},
     "output_type": "execute_result"
    }
   ],
   "source": [
    "# Check number of rows  in X_train dataset after spliting.\n",
    "\n",
    "len(X_train)"
   ]
  },
  {
   "cell_type": "code",
   "execution_count": 261,
   "metadata": {},
   "outputs": [
    {
     "data": {
      "text/plain": [
       "2553"
      ]
     },
     "execution_count": 261,
     "metadata": {},
     "output_type": "execute_result"
    }
   ],
   "source": [
    "# Check number of rows  in X_test dataset after spliting.\n",
    "\n",
    "len(X_test)"
   ]
  },
  {
   "cell_type": "code",
   "execution_count": 262,
   "metadata": {},
   "outputs": [],
   "source": [
    "# Importing CountVectorizer to count words frequency in data set.\n",
    "\n",
    "from sklearn.feature_extraction.text import CountVectorizer\n",
    "\n",
    "# vectorising the text\n",
    "vect = CountVectorizer(stop_words='english')"
   ]
  },
  {
   "cell_type": "code",
   "execution_count": 263,
   "metadata": {},
   "outputs": [
    {
     "data": {
      "text/plain": [
       "CountVectorizer(analyzer='word', binary=False, decode_error='strict',\n",
       "        dtype=<class 'numpy.int64'>, encoding='utf-8', input='content',\n",
       "        lowercase=True, max_df=1.0, max_features=None, min_df=1,\n",
       "        ngram_range=(1, 1), preprocessor=None, stop_words='english',\n",
       "        strip_accents=None, token_pattern='(?u)\\\\b\\\\w\\\\w+\\\\b',\n",
       "        tokenizer=None, vocabulary=None)"
      ]
     },
     "execution_count": 263,
     "metadata": {},
     "output_type": "execute_result"
    }
   ],
   "source": [
    "# Fit the X_train data into vect object.\n",
    "\n",
    "vect.fit(X_train)"
   ]
  },
  {
   "cell_type": "code",
   "execution_count": 264,
   "metadata": {},
   "outputs": [
    {
     "data": {
      "text/plain": [
       "{'hi': 6712,\n",
       " 'raise': 12566,\n",
       " 'ticket': 15672,\n",
       " 'issue': 7635,\n",
       " 'using': 16394,\n",
       " 'oa': 10685,\n",
       " 'replication': 13027,\n",
       " 'transaction': 15913,\n",
       " 'getting': 5935,\n",
       " 'error': 4898,\n",
       " 'message': 9639,\n",
       " 'continues': 3164,\n",
       " 'transmitted': 15933,\n",
       " 'ariba': 1008,\n",
       " 'realm': 12724,\n",
       " 'cheers': 2609,\n",
       " 'jude': 8004,\n",
       " 'galon': 5733,\n",
       " 'pgs': 11571,\n",
       " 'process': 12196,\n",
       " 'expert': 5105,\n",
       " 'europe': 4997,\n",
       " 'cp': 3304,\n",
       " 'systems': 15347,\n",
       " 'innovation': 7369,\n",
       " 'shell': 14264,\n",
       " 'international': 7516,\n",
       " 'petroleum': 11553,\n",
       " 'company': 2959,\n",
       " 'limited': 8801,\n",
       " 'registered': 12882,\n",
       " 'england': 4766,\n",
       " 'wales': 16919,\n",
       " 'number': 10619,\n",
       " 'office': 10773,\n",
       " 'centre': 2471,\n",
       " 'london': 8953,\n",
       " 'se': 13962,\n",
       " 'uk': 16169,\n",
       " 'receive': 12750,\n",
       " 'time': 15701,\n",
       " 'weekend': 17013,\n",
       " 'obliged': 10707,\n",
       " 'reply': 13029,\n",
       " 'immediately': 7108,\n",
       " 'convenient': 3192,\n",
       " 'mail': 9181,\n",
       " 'attachment': 1198,\n",
       " 'response': 13156,\n",
       " 'string': 15038,\n",
       " 'contain': 3142,\n",
       " 'confidential': 3056,\n",
       " 'data': 3581,\n",
       " 'information': 7297,\n",
       " 'legally': 8683,\n",
       " 'privileged': 12162,\n",
       " 'received': 12751,\n",
       " 'notify': 10581,\n",
       " 'sender': 14059,\n",
       " 'ii': 7060,\n",
       " 'read': 12709,\n",
       " 'copy': 3219,\n",
       " 'print': 12142,\n",
       " 'forward': 5565,\n",
       " 'disclose': 4116,\n",
       " 'contents': 3152,\n",
       " 'person': 11522,\n",
       " 'iii': 7063,\n",
       " 'delete': 3803,\n",
       " 'electronic': 4643,\n",
       " 'communications': 2951,\n",
       " 'secure': 13998,\n",
       " 'accept': 172,\n",
       " 'responsibility': 13159,\n",
       " 'connected': 3083,\n",
       " 'use': 16377,\n",
       " 'including': 7204,\n",
       " 'damages': 3535,\n",
       " 'sustained': 15263,\n",
       " 'result': 13187,\n",
       " 'viruses': 16772,\n",
       " 'public': 12376,\n",
       " 'network': 10364,\n",
       " 'thank': 15600,\n",
       " 'subject': 15075,\n",
       " 'need': 10329,\n",
       " 'activate': 268,\n",
       " 'workflow': 17212,\n",
       " 'good': 6096,\n",
       " 'day': 3643,\n",
       " 'following': 5524,\n",
       " 'invoices': 7564,\n",
       " 'advise': 371,\n",
       " 'hasn': 6578,\n",
       " 'triggered': 15974,\n",
       " 'parking': 11303,\n",
       " 'regards': 12873,\n",
       " 'elena': 4648,\n",
       " 'hello': 6654,\n",
       " 'created': 3343,\n",
       " 'task': 15422,\n",
       " 'itsk': 7678,\n",
       " 'kindly': 8279,\n",
       " 'escalate': 4915,\n",
       " 'ubcc': 16125,\n",
       " 'denis': 3849,\n",
       " 'missing': 9798,\n",
       " 'yinka': 17424,\n",
       " 'bw': 2192,\n",
       " 'queue': 12519,\n",
       " 'posting': 11996,\n",
       " 'highlighted': 6732,\n",
       " 'chart': 2577,\n",
       " 'cost': 3264,\n",
       " 'management': 9278,\n",
       " 'report': 13032,\n",
       " 'help': 6656,\n",
       " 'resolve': 13133,\n",
       " 'team': 15463,\n",
       " 'check': 2600,\n",
       " 'log': 8917,\n",
       " 'nocp': 10494,\n",
       " 'auto': 1276,\n",
       " 'po': 11895,\n",
       " 'svc': 15273,\n",
       " 'mm': 9830,\n",
       " 'sent': 14069,\n",
       " 'sssc': 14846,\n",
       " 'askrtpnorway': 1106,\n",
       " 'com': 2904,\n",
       " 'owns': 11160,\n",
       " 'informed': 7305,\n",
       " 'material': 9446,\n",
       " 'logs': 8941,\n",
       " 'appreciate': 922,\n",
       " 'thorough': 15640,\n",
       " 'best': 1694,\n",
       " 'przemys': 12324,\n",
       " 'aw': 1329,\n",
       " 'gruchacz': 6226,\n",
       " 'operations': 10963,\n",
       " 'tel': 15505,\n",
       " 'email': 4677,\n",
       " 'przemyslaw': 12325,\n",
       " 'polska': 11927,\n",
       " 'sp': 14695,\n",
       " 'oil': 10806,\n",
       " 'products': 12228,\n",
       " 'ul': 16177,\n",
       " 'bitwy': 1829,\n",
       " 'warszawskiej': 16949,\n",
       " 'nr': 10603,\n",
       " 'warszawa': 16948,\n",
       " 'sbo': 13824,\n",
       " 'krakow': 8403,\n",
       " 'czerwone': 3506,\n",
       " 'maki': 9237,\n",
       " 'street': 15032,\n",
       " 'poland': 11917,\n",
       " 'investigate': 7542,\n",
       " 'darcy': 3564,\n",
       " 'longer': 8955,\n",
       " 'approve': 938,\n",
       " 'requisitions': 13105,\n",
       " 'level': 8728,\n",
       " 'authority': 1269,\n",
       " 'access': 179,\n",
       " 'msg': 10013,\n",
       " 'stating': 14924,\n",
       " 'authorized': 1274,\n",
       " 'thanks': 15603,\n",
       " 'sue': 15136,\n",
       " 'hansen': 6524,\n",
       " 'sap': 13721,\n",
       " 'security': 14002,\n",
       " 'focal': 5501,\n",
       " 'canada': 2274,\n",
       " 'airport': 505,\n",
       " 'road': 13348,\n",
       " 'fort': 5559,\n",
       " 'st': 14857,\n",
       " 'john': 7936,\n",
       " 'bc': 1553,\n",
       " 'den': 3844,\n",
       " 'helder': 6649,\n",
       " 'floating': 5469,\n",
       " 'deliveries': 3819,\n",
       " 'ust': 16410,\n",
       " 'requesting': 13084,\n",
       " 'payment': 11411,\n",
       " 'status': 14933,\n",
       " 'listed': 8850,\n",
       " 'ouida': 11091,\n",
       " 'plaisance': 11784,\n",
       " 'billing': 1805,\n",
       " 'specialist': 14719,\n",
       " 'supervisor': 15200,\n",
       " 'crosbyenergyservices': 3385,\n",
       " 'https': 6884,\n",
       " 'emea': 4691,\n",
       " 'safelinks': 13622,\n",
       " 'protection': 12290,\n",
       " 'outlook': 11107,\n",
       " 'url': 16342,\n",
       " 'http': 6883,\n",
       " 'sdata': 13950,\n",
       " 'reserved': 13124,\n",
       " 'crosby': 3384,\n",
       " 'energy': 4746,\n",
       " 'services': 14132,\n",
       " 'production': 12223,\n",
       " 'files': 5376,\n",
       " 'covered': 3300,\n",
       " 'privacy': 12158,\n",
       " 'act': 253,\n",
       " 'intended': 7495,\n",
       " 'solely': 14610,\n",
       " 'individual': 7264,\n",
       " 'entity': 4801,\n",
       " 'addressed': 314,\n",
       " 'named': 10223,\n",
       " 'addressee': 315,\n",
       " 'disseminate': 4156,\n",
       " 'distribute': 4160,\n",
       " 'mistake': 9799,\n",
       " 'recipient': 12769,\n",
       " 'notified': 10578,\n",
       " 'disclosing': 4118,\n",
       " 'copying': 3220,\n",
       " 'distributing': 4162,\n",
       " 'taking': 15386,\n",
       " 'action': 259,\n",
       " 'reliance': 12947,\n",
       " 'strictly': 15037,\n",
       " 'prohibited': 12248,\n",
       " 'illegal': 7087,\n",
       " 'deepwater': 3753,\n",
       " 'header': 6610,\n",
       " 'text': 15582,\n",
       " 'contract': 3168,\n",
       " 'rider': 13286,\n",
       " 'carlos': 2338,\n",
       " 'insights': 7417,\n",
       " 'supporting': 15220,\n",
       " 'spex': 14738,\n",
       " 'smep': 14533,\n",
       " 'got': 6120,\n",
       " 'adrian': 363,\n",
       " 'karter': 8138,\n",
       " 'speak': 14713,\n",
       " 'regarding': 12871,\n",
       " 'reports': 13048,\n",
       " 'know': 8332,\n",
       " 'pull': 12388,\n",
       " 'able': 131,\n",
       " 'notes': 10566,\n",
       " 'assist': 1150,\n",
       " 'lenarani': 8700,\n",
       " 'moganathan': 9883,\n",
       " 'analyst': 745,\n",
       " 'upstream': 16324,\n",
       " 'moc': 9863,\n",
       " 'mailto': 9199,\n",
       " 'operational': 10959,\n",
       " 'excellence': 5050,\n",
       " 'sww': 15314,\n",
       " 'html': 6880,\n",
       " 'business': 2165,\n",
       " 'service': 14124,\n",
       " 'sdn': 13957,\n",
       " 'bhd': 1765,\n",
       " 'wisma': 17156,\n",
       " 'jalan': 7764,\n",
       " 'teknokrat': 15503,\n",
       " 'cyberjaya': 3490,\n",
       " 'selangor': 14037,\n",
       " 'malaysia': 9251,\n",
       " 'copies': 3218,\n",
       " 'proprietary': 12281,\n",
       " 'shall': 14216,\n",
       " 'manner': 9312,\n",
       " 'whatsoever': 17082,\n",
       " 'hold': 6785,\n",
       " 'maintain': 9204,\n",
       " 'strictest': 15036,\n",
       " 'confidence': 3053,\n",
       " 'work': 17199,\n",
       " 'like': 8788,\n",
       " 'money': 9915,\n",
       " 'love': 8987,\n",
       " 'hurt': 6915,\n",
       " 'dance': 3540,\n",
       " 'watching': 16962,\n",
       " 'live': 8861,\n",
       " 'laugh': 8600,\n",
       " 'going': 6083,\n",
       " 'paperless': 11274,\n",
       " 'unnecessarily': 16260,\n",
       " 'paid': 11203,\n",
       " 'recovery': 12799,\n",
       " 'party': 11333,\n",
       " 'hui': 6903,\n",
       " 'peng': 11475,\n",
       " 'conversation': 3195,\n",
       " 'earlier': 4493,\n",
       " 'discussed': 4132,\n",
       " 'ways': 16974,\n",
       " 'retrieve': 13207,\n",
       " 'scanned': 13837,\n",
       " 'saved': 13797,\n",
       " 'dedicated': 3741,\n",
       " 'folder': 5517,\n",
       " 'currently': 3458,\n",
       " 'consuming': 3133,\n",
       " 'choose': 2663,\n",
       " 'latest': 8596,\n",
       " 'invoice': 7557,\n",
       " 'generate': 5887,\n",
       " 'documentation': 4232,\n",
       " 'attached': 1196,\n",
       " 'cash': 2370,\n",
       " 'expense': 5099,\n",
       " 'downloaded': 4319,\n",
       " 'let': 8723,\n",
       " 'helps': 6664,\n",
       " 'mass': 9432,\n",
       " 'download': 4318,\n",
       " 'mazlina': 9501,\n",
       " 'related': 12926,\n",
       " 'loggin': 8924,\n",
       " 'login': 8931,\n",
       " 'screen': 13924,\n",
       " 'shows': 14334,\n",
       " 'black': 1842,\n",
       " 'parts': 11332,\n",
       " 'menu': 9622,\n",
       " 'options': 10997,\n",
       " 'tomasz': 15804,\n",
       " 'zawadzki': 17530,\n",
       " 'ops': 10985,\n",
       " 'lead': 8651,\n",
       " 'base': 1505,\n",
       " 'kraków': 8406,\n",
       " 'blocking': 1872,\n",
       " 'discuss': 4131,\n",
       " 'opentext': 10950,\n",
       " 'post': 11983,\n",
       " 'issues': 7639,\n",
       " 'calls': 2257,\n",
       " 'set': 14153,\n",
       " 'cover': 3296,\n",
       " 'ou': 11083,\n",
       " 'feel': 5302,\n",
       " 'free': 5619,\n",
       " 'invite': 7551,\n",
       " 'madhu': 9149,\n",
       " 'join': 7945,\n",
       " 'skype': 14494,\n",
       " 'meeting': 9575,\n",
       " 'trouble': 15993,\n",
       " 'joining': 7948,\n",
       " 'try': 16008,\n",
       " 'web': 16994,\n",
       " 'app': 888,\n",
       " 'phone': 11677,\n",
       " 'netherlands': 10362,\n",
       " 'hague': 6467,\n",
       " 'english': 4768,\n",
       " 'united': 16240,\n",
       " 'kingdom': 8283,\n",
       " 'local': 8895,\n",
       " 'conference': 3051,\n",
       " 'id': 6976,\n",
       " 'forgot': 5544,\n",
       " 'dial': 4021,\n",
       " 'pin': 11736,\n",
       " 'legal': 8682,\n",
       " 'pb': 11418,\n",
       " 'lauren': 8608,\n",
       " 'existing': 5080,\n",
       " 'view': 16728,\n",
       " 'looking': 8960,\n",
       " 'raj': 12571,\n",
       " 'renju': 12996,\n",
       " 'senior': 14066,\n",
       " 'accountant': 201,\n",
       " 'arrow': 1044,\n",
       " 'pty': 12373,\n",
       " 'eagle': 4488,\n",
       " 'brisbane': 2069,\n",
       " 'qld': 12457,\n",
       " 'gpo': 6137,\n",
       " 'box': 1987,\n",
       " 'australia': 1258,\n",
       " 'arrowenergy': 1045,\n",
       " 'au': 1221,\n",
       " 'important': 7141,\n",
       " 'urgent': 16336,\n",
       " 'job': 7923,\n",
       " 'epcp': 4841,\n",
       " 'scv': 13944,\n",
       " 'failed': 5203,\n",
       " 'fix': 5443,\n",
       " 'mysap': 10161,\n",
       " 'create': 3342,\n",
       " 'subjectmissing': 15083,\n",
       " 'batch': 1524,\n",
       " 'brwa': 2097,\n",
       " 'brainwarebackgroundkindly': 2016,\n",
       " 'locating': 8900,\n",
       " 'brainware': 2015,\n",
       " 'snip': 14562,\n",
       " 'checking': 2605,\n",
       " 'istr': 7642,\n",
       " 'workaround': 17200,\n",
       " 'apply': 915,\n",
       " 'severityticket': 14179,\n",
       " 'owner': 11152,\n",
       " 'phrmotassigned': 11692,\n",
       " 'toubcc': 15846,\n",
       " 'support': 15213,\n",
       " 'line': 8825,\n",
       " 'rachelle': 12543,\n",
       " 'lynne': 9108,\n",
       " 'morco': 9939,\n",
       " 'accounts': 207,\n",
       " 'payable': 11404,\n",
       " 'manila': 9301,\n",
       " 'solaris': 14607,\n",
       " 'building': 2136,\n",
       " 'dela': 3788,\n",
       " 'rosa': 13426,\n",
       " 'legazpi': 8685,\n",
       " 'village': 16745,\n",
       " 'makati': 9232,\n",
       " 'city': 2724,\n",
       " 'philippines': 11631,\n",
       " 'creation': 3351,\n",
       " 'bad': 1395,\n",
       " 'images': 7096,\n",
       " 'perform': 11490,\n",
       " 'sapp': 13740,\n",
       " 'ac': 161,\n",
       " 'acjksv': 235,\n",
       " 'asset': 1134,\n",
       " 'intelligentcapture': 7493,\n",
       " 'ui': 16150,\n",
       " 'prod': 12218,\n",
       " 'server': 14118,\n",
       " 'zew': 17573,\n",
       " 'loshini': 8977,\n",
       " 'raja': 12572,\n",
       " 'downstream': 4324,\n",
       " 'functions': 5682,\n",
       " 'ocr': 10737,\n",
       " 'delivery': 3821,\n",
       " 'itso': 7680,\n",
       " 'ds': 4373,\n",
       " 'som': 14627,\n",
       " 'non': 10520,\n",
       " 'erp': 4890,\n",
       " 'managed': 9277,\n",
       " 'wipro': 17148,\n",
       " 'technologies': 15486,\n",
       " 'bengaluru': 1650,\n",
       " 'india': 7241,\n",
       " 'logged': 8923,\n",
       " 'myapps': 10113,\n",
       " 'ad': 292,\n",
       " 'bgep': 1746,\n",
       " 'citrix': 2722,\n",
       " 'auth': 1260,\n",
       " 'aspx': 1114,\n",
       " 'ctx': 3426,\n",
       " 'messagetype': 9645,\n",
       " 'messagekey': 9641,\n",
       " 'invalidcredentials': 7537,\n",
       " 'bgglobal': 1747,\n",
       " 'desk': 3936,\n",
       " 'ist': 7641,\n",
       " 'aug': 1239,\n",
       " 'based': 1506,\n",
       " 'americas': 684,\n",
       " 'east': 4500,\n",
       " 'old': 10840,\n",
       " 'items': 7659,\n",
       " 'unkn': 16247,\n",
       " 'succ': 15115,\n",
       " 'fail': 5200,\n",
       " 'code': 2851,\n",
       " 'count': 3272,\n",
       " 'document': 4229,\n",
       " 'idcolumn': 6981,\n",
       " 'labelsrow': 8514,\n",
       " 'labelsbrwadeltexcpfailmiroparkpostredtsucctranunknvoidwfstgrand': 8511,\n",
       " 'total': 15842,\n",
       " 'grand': 6159,\n",
       " 'rein': 12905,\n",
       " 'form': 5548,\n",
       " 'barszcz': 1493,\n",
       " 'ewa': 5030,\n",
       " 'plebab': 11816,\n",
       " 'request': 13080,\n",
       " 'new': 10367,\n",
       " 'webform': 16997,\n",
       " 'submitted': 15096,\n",
       " 'type': 16085,\n",
       " 'account': 199,\n",
       " 'address': 309,\n",
       " 'dot': 4303,\n",
       " 'employee': 4710,\n",
       " 'contractor': 3171,\n",
       " 'primary': 12128,\n",
       " 'location': 8901,\n",
       " 'user': 16381,\n",
       " 'fo': 5500,\n",
       " 'specify': 14728,\n",
       " 'staff': 14864,\n",
       " 'details': 3953,\n",
       " 'change': 2535,\n",
       " 'requested': 13081,\n",
       " 'yes': 17405,\n",
       " 'justification': 8042,\n",
       " 'controller': 3184,\n",
       " 'sa': 13596,\n",
       " 'coce': 2847,\n",
       " 'selection': 14042,\n",
       " 'othersothersothers': 11074,\n",
       " 'approvals': 936,\n",
       " 'attachments': 1199,\n",
       " 'bulk': 2144,\n",
       " 'roles': 13395,\n",
       " 'codes': 2865,\n",
       " 'plbkl': 11809,\n",
       " 'comments': 2930,\n",
       " 'generic': 5893,\n",
       " 'feedback': 5299,\n",
       " 'blueprint': 1882,\n",
       " 'jas': 7799,\n",
       " 'difficulties': 4054,\n",
       " 'retrigger': 13210,\n",
       " 'doesn': 4258,\n",
       " 'wf': 17071,\n",
       " 'parked': 11298,\n",
       " 'liv': 8860,\n",
       " 'appreciated': 923,\n",
       " 'magdalena': 9159,\n",
       " 'osak': 11055,\n",
       " 'admin': 341,\n",
       " 'update': 16290,\n",
       " 'functional': 5679,\n",
       " 'mailbox': 9187,\n",
       " 'password': 11353,\n",
       " 'sbsc': 13830,\n",
       " 'pdf': 11439,\n",
       " 'ea': 4487,\n",
       " 'db': 3660,\n",
       " 'changed': 2538,\n",
       " 'reset': 13125,\n",
       " 'send': 14058,\n",
       " 'separate': 14085,\n",
       " 'directly': 4098,\n",
       " 'nisa': 10441,\n",
       " 'kl': 8301,\n",
       " 'today': 15778,\n",
       " 'screenshot': 13930,\n",
       " 'encounter': 4731,\n",
       " 'alyssa': 661,\n",
       " 'chavez': 2592,\n",
       " 'associate': 1160,\n",
       " 'notification': 10576,\n",
       " 'letter': 8726,\n",
       " 'detailschange': 3955,\n",
       " 'numberchgdescription': 10624,\n",
       " 'purposeserp': 12415,\n",
       " 'october': 10742,\n",
       " 'downtime': 4325,\n",
       " 'impact': 7112,\n",
       " 'levelhighschedulestart': 8729,\n",
       " 'date': 3591,\n",
       " 'timesaturday': 15713,\n",
       " 'gmtend': 6059,\n",
       " 'gmtcommentscheduled': 6055,\n",
       " 'start': 14893,\n",
       " 'saturday': 13785,\n",
       " 'gmt': 6052,\n",
       " 'scheduled': 13858,\n",
       " 'stop': 15001,\n",
       " 'gmtwho': 6062,\n",
       " 'impactedbusinessxdsxgfxui': 7117,\n",
       " 'uaxgptxetxptt': 16123,\n",
       " 'users': 16387,\n",
       " 'locationglobalhelpdesk': 8905,\n",
       " 'impactmediumservicesmuntsd': 7123,\n",
       " 'tomcat': 15805,\n",
       " 'archive': 990,\n",
       " 'spawner': 14709,\n",
       " 'restartedcommentsopentext': 13169,\n",
       " 'unavailable': 16201,\n",
       " 'duration': 4451,\n",
       " 'requirednoteplease': 13094,\n",
       " 'don': 4271,\n",
       " 'documents': 4249,\n",
       " 'enterprise': 4792,\n",
       " 'scan': 13835,\n",
       " 'import': 7139,\n",
       " 'outbound': 11100,\n",
       " 'additional': 306,\n",
       " 'informationnote': 7299,\n",
       " 'olm': 10854,\n",
       " 'contact': 3137,\n",
       " 'shreyas': 14339,\n",
       " 'veetikat': 16586,\n",
       " 'maisarah': 9217,\n",
       " 'mohamad': 9886,\n",
       " 'comquestions': 3016,\n",
       " 'queriescustodianolm': 12511,\n",
       " 'comfunctional': 2918,\n",
       " 'mailboxif': 9191,\n",
       " 'query': 12513,\n",
       " 'implementation': 7132,\n",
       " 'gf': 5942,\n",
       " 'comnotable': 2955,\n",
       " 'cascade': 2363,\n",
       " 'solar': 14605,\n",
       " 'norge': 10542,\n",
       " 'unable': 16189,\n",
       " 'importance': 7140,\n",
       " 'high': 6726,\n",
       " 'celine': 2458,\n",
       " 'joyce': 7987,\n",
       " 'yongco': 17445,\n",
       " 'www': 17274,\n",
       " 'ap': 870,\n",
       " 'resolution': 13131,\n",
       " 'mid': 9701,\n",
       " 'floor': 5473,\n",
       " 'bldg': 1856,\n",
       " 'month': 9928,\n",
       " 'close': 2800,\n",
       " 'discovered': 4125,\n",
       " 'technical': 15477,\n",
       " 'authorization': 1271,\n",
       " 'bp': 1996,\n",
       " 'wells': 17041,\n",
       " 'opened': 10943,\n",
       " 'pos': 11969,\n",
       " 'tw': 16063,\n",
       " 'sabina': 13608,\n",
       " 'gb': 5789,\n",
       " 'eriks': 4885,\n",
       " 'industrial': 7276,\n",
       " 'distribution': 4163,\n",
       " 'vendor': 16602,\n",
       " 'hope': 6818,\n",
       " 'assistance': 1151,\n",
       " 'encountered': 4732,\n",
       " 'background': 1385,\n",
       " 'discrepancy': 4128,\n",
       " 'pi': 11702,\n",
       " 'partner': 11325,\n",
       " 'updated': 16292,\n",
       " 'creator': 3353,\n",
       " 'match': 9440,\n",
       " 'trying': 16009,\n",
       " 'miro': 9777,\n",
       " 'advance': 366,\n",
       " 'kind': 8277,\n",
       " 'niña': 10452,\n",
       " 'famela': 5238,\n",
       " 'arevalo': 1003,\n",
       " 'provide': 12302,\n",
       " 'idphrvivroy': 7013,\n",
       " 'villarosa': 16749,\n",
       " 'oustatecompany': 11097,\n",
       " 'codegid': 2861,\n",
       " 'idemailthird': 6988,\n",
       " 'igenvironment': 7047,\n",
       " 'granted': 6162,\n",
       " 'china': 2645,\n",
       " 'exp': 5084,\n",
       " 'ltdcn': 9022,\n",
       " 'tpproduction': 15882,\n",
       " 'ltdcna': 9023,\n",
       " 'ltdcnc': 9024,\n",
       " 'philippine': 11630,\n",
       " 'exploration': 5120,\n",
       " 'bvph': 2191,\n",
       " 'holdings': 6790,\n",
       " 'limitedau': 8802,\n",
       " 'limitedgb': 8805,\n",
       " 'ireland': 7603,\n",
       " 'limitedie': 8806,\n",
       " 'italia': 7645,\n",
       " 'spait': 14700,\n",
       " 'nederlandse': 10327,\n",
       " 'aardolie': 52,\n",
       " 'maatschappij': 9122,\n",
       " 'nl': 10458,\n",
       " 'norske': 10549,\n",
       " 'shellno': 14275,\n",
       " 'argentina': 1005,\n",
       " 'ar': 965,\n",
       " 'ep': 4833,\n",
       " 'guyana': 6289,\n",
       " 'bm': 1885,\n",
       " 'brazil': 2032,\n",
       " 'br': 2008,\n",
       " 'pecten': 11450,\n",
       " 'tamba': 15394,\n",
       " 'ca': 2212,\n",
       " 'sands': 13698,\n",
       " 'lng': 8882,\n",
       " 'development': 3981,\n",
       " 'inca': 7188,\n",
       " 'colombia': 2899,\n",
       " 'france': 5603,\n",
       " 'sas': 13764,\n",
       " 'fr': 5592,\n",
       " 'mexico': 9669,\n",
       " 'mx': 10099,\n",
       " 'peru': 11535,\n",
       " 'pe': 11448,\n",
       " 'trinidad': 15980,\n",
       " 'tobagott': 15776,\n",
       " 'problems': 12186,\n",
       " 'ranjani': 12630,\n",
       " 'facing': 5185,\n",
       " 'couple': 3287,\n",
       " 'executing': 5070,\n",
       " 'select': 14039,\n",
       " 'analysis': 742,\n",
       " 'option': 10995,\n",
       " 'throwing': 15657,\n",
       " 'tried': 15969,\n",
       " 'times': 15711,\n",
       " 'lot': 8981,\n",
       " 'initial': 7335,\n",
       " 'prompt': 12265,\n",
       " 'look': 8958,\n",
       " 'sridhar': 14808,\n",
       " 'kotha': 8388,\n",
       " 'bartosiewicz': 1499,\n",
       " 'jakub': 7763,\n",
       " 'pljbae': 11833,\n",
       " 'necessary': 10323,\n",
       " 'daily': 3524,\n",
       " 'activities': 275,\n",
       " 'zp': 17648,\n",
       " 'cross': 3386,\n",
       " 'application': 907,\n",
       " 'display': 4141,\n",
       " 'reporting': 13042,\n",
       " 'restricted': 13176,\n",
       " 'hr': 6857,\n",
       " 'master': 9435,\n",
       " 'table': 15366,\n",
       " 'le': 8650,\n",
       " 'idocs': 7007,\n",
       " 'maintenance': 9213,\n",
       " 'flag': 5451,\n",
       " 'deletion': 3806,\n",
       " 'materials': 9449,\n",
       " 'por': 11953,\n",
       " 'audit': 1232,\n",
       " 'pm': 11862,\n",
       " 'list': 8849,\n",
       " 'processing': 12204,\n",
       " 'prometheus': 12263,\n",
       " 'tool': 15823,\n",
       " 'igs': 7055,\n",
       " 'mpm': 9991,\n",
       " 'tlm': 15758,\n",
       " 'bom': 1931,\n",
       " 'equipment': 4866,\n",
       " 'multiples': 10046,\n",
       " 'collective': 2890,\n",
       " 'object': 10701,\n",
       " 'schedule': 13857,\n",
       " 'plan': 11786,\n",
       " 'maintainer': 9206,\n",
       " 'objects': 10704,\n",
       " 'measuring': 9555,\n",
       " 'point': 11912,\n",
       " 'operation': 10958,\n",
       " 'specific': 14725,\n",
       " 'condition': 3045,\n",
       " 'serial': 14106,\n",
       " 'ps': 12335,\n",
       " 'sd': 13945,\n",
       " 'central': 2468,\n",
       " 'customer': 3467,\n",
       " 'centrally': 2470,\n",
       " 'te': 15461,\n",
       " 'transactions': 15916,\n",
       " 'role': 13390,\n",
       " 'profile': 12232,\n",
       " 'rfc': 13257,\n",
       " 'class': 2751,\n",
       " 'assignments': 1146,\n",
       " 'secondary': 13988,\n",
       " 'elements': 4646,\n",
       " 'fi': 5336,\n",
       " 'lo': 8886,\n",
       " 'zq': 17654,\n",
       " 'cep': 2477,\n",
       " 'financial': 5396,\n",
       " 'org': 11022,\n",
       " 'qualifier': 12485,\n",
       " 'companies': 2958,\n",
       " 'jv': 8048,\n",
       " 'joint': 7949,\n",
       " 'venture': 16629,\n",
       " 'qual': 12484,\n",
       " 'logistics': 8934,\n",
       " 'plant': 11797,\n",
       " 'project': 12253,\n",
       " 'global': 6033,\n",
       " 'planning': 11794,\n",
       " 'zr': 17660,\n",
       " 'assets': 1137,\n",
       " 'customers': 3469,\n",
       " 'bia': 1771,\n",
       " 'input': 7388,\n",
       " 'authorisation': 1264,\n",
       " 'session': 14150,\n",
       " 'fl': 5450,\n",
       " 'bon': 1932,\n",
       " 'cag': 2229,\n",
       " 'group': 6212,\n",
       " 'debt': 3709,\n",
       " 'cla': 2734,\n",
       " 'classification': 2752,\n",
       " 'doc': 4213,\n",
       " 'purchasing': 12409,\n",
       " 'gtu': 6246,\n",
       " 'gateway': 5776,\n",
       " 'mobility': 9860,\n",
       " 'desktop': 3938,\n",
       " 'solution': 14618,\n",
       " 'mat': 9438,\n",
       " 'activity': 276,\n",
       " 'mmc': 9834,\n",
       " 'client': 2790,\n",
       " 'mms': 9842,\n",
       " 'maitenance': 9218,\n",
       " 'msm': 10017,\n",
       " 'serv': 14115,\n",
       " 'pmg': 11869,\n",
       " 'orders': 11015,\n",
       " 'sst': 14852,\n",
       " 'sapscript': 13743,\n",
       " 'standard': 14879,\n",
       " 'texts': 15583,\n",
       " 'stm': 14988,\n",
       " 'ifl': 7039,\n",
       " 'ieq': 7032,\n",
       " 'ine': 7283,\n",
       " 'wrfm': 17248,\n",
       " 'notifications': 10577,\n",
       " 'vag': 16459,\n",
       " 'trad': 15896,\n",
       " 'fiv': 5441,\n",
       " 'jvpt': 8052,\n",
       " 'ido': 7005,\n",
       " 'types': 16098,\n",
       " 'tag': 15373,\n",
       " 'groups': 6216,\n",
       " 'shel': 14262,\n",
       " 'mnfr': 9845,\n",
       " 'add': 299,\n",
       " 'ons': 10909,\n",
       " 'morning': 9946,\n",
       " 'wondering': 17186,\n",
       " 'sitting': 14462,\n",
       " 'approved': 939,\n",
       " 'relates': 12927,\n",
       " 'purchase': 12404,\n",
       " 'order': 11009,\n",
       " 'catriona': 2400,\n",
       " 'mckay': 9525,\n",
       " 'administrator': 347,\n",
       " 'hiltoninstruments': 6745,\n",
       " 'info': 7289,\n",
       " 'fax': 5271,\n",
       " 'linkedin': 8836,\n",
       " 'instruments': 7466,\n",
       " 'connect': 3082,\n",
       " 'howe': 6853,\n",
       " 'moss': 9958,\n",
       " 'avenue': 1312,\n",
       " 'kirkhill': 8289,\n",
       " 'estate': 4958,\n",
       " 'dyce': 4474,\n",
       " 'aberdeen': 113,\n",
       " 'ab': 79,\n",
       " 'ref': 12832,\n",
       " 'tax': 15433,\n",
       " 'erroneously': 4897,\n",
       " 'calculating': 2244,\n",
       " 'ses': 14148,\n",
       " 'ashu': 1091,\n",
       " 'kumar': 8466,\n",
       " 'dr': 4338,\n",
       " 'used': 16379,\n",
       " 'exempt': 5074,\n",
       " 'purchases': 12408,\n",
       " 'calculate': 2242,\n",
       " 'working': 17218,\n",
       " 'correctly': 3248,\n",
       " 'prior': 12151,\n",
       " 'onesource': 10897,\n",
       " 'november': 10590,\n",
       " 'case': 2366,\n",
       " 'questions': 12517,\n",
       " 'clarifications': 2743,\n",
       " 'myron': 10159,\n",
       " 'approvers': 944,\n",
       " 'mark': 9393,\n",
       " 'thresholds': 15652,\n",
       " 'release': 12937,\n",
       " 'pr': 12030,\n",
       " 'entry': 4810,\n",
       " 'piotr': 11748,\n",
       " 'bonus': 1940,\n",
       " 'retention': 13200,\n",
       " 'georgie': 5912,\n",
       " 'picked': 11710,\n",
       " 'anomalies': 828,\n",
       " 'speaking': 14715,\n",
       " 'eddie': 4546,\n",
       " 'checked': 2602,\n",
       " 'rates': 12652,\n",
       " 'variation': 16543,\n",
       " 'file': 5369,\n",
       " 'impacted': 7115,\n",
       " 'manager': 9280,\n",
       " 'leading': 8654,\n",
       " 'hand': 6500,\n",
       " 'wanted': 16934,\n",
       " 'make': 9233,\n",
       " 'sure': 15231,\n",
       " 'page': 11196,\n",
       " 'amounts': 711,\n",
       " 'individuals': 7265,\n",
       " 'letters': 8727,\n",
       " 'tie': 15681,\n",
       " 'exclusively': 5064,\n",
       " 'communication': 2950,\n",
       " 'disclosure': 4119,\n",
       " 'review': 13237,\n",
       " 'retransmission': 13205,\n",
       " 'dissemination': 4157,\n",
       " 'persons': 11528,\n",
       " 'entities': 4799,\n",
       " 'computer': 3015,\n",
       " 'defects': 3763,\n",
       " 'liability': 8753,\n",
       " 'loss': 8978,\n",
       " 'damage': 3533,\n",
       " 'nature': 10295,\n",
       " 'caused': 2407,\n",
       " 'indirectly': 7260,\n",
       " 'contained': 3143,\n",
       " 'asco': 1072,\n",
       " 'sc': 13833,\n",
       " 'subsidiaries': 15107,\n",
       " 'scotland': 13912,\n",
       " 'aviation': 1317,\n",
       " 'freight': 5624,\n",
       " 'marine': 9380,\n",
       " 'properties': 12275,\n",
       " 'ventures': 16631,\n",
       " 'decommissioning': 3734,\n",
       " 'north': 10550,\n",
       " 'sea': 13963,\n",
       " 'lifting': 8779,\n",
       " 'obm': 10708,\n",
       " 'norm': 10544,\n",
       " 'solutions': 14619,\n",
       " 'seletar': 14045,\n",
       " 'shipping': 14304,\n",
       " 'offices': 10780,\n",
       " 'mentioned': 9621,\n",
       " 'harvest': 6572,\n",
       " 'park': 11296,\n",
       " 'acquisitions': 251,\n",
       " 'dc': 3668,\n",
       " 'great': 6178,\n",
       " 'yarmouth': 17376,\n",
       " 'offshore': 10787,\n",
       " 'supply': 15210,\n",
       " 'south': 14681,\n",
       " 'denes': 3845,\n",
       " 'foreign': 5541,\n",
       " 'incorporated': 7223,\n",
       " 'norway': 10553,\n",
       " 'panama': 11231,\n",
       " 'states': 14919,\n",
       " 'america': 682,\n",
       " ...}"
      ]
     },
     "execution_count": 264,
     "metadata": {},
     "output_type": "execute_result"
    }
   ],
   "source": [
    "# Check the X_train dataset words frequency.\n",
    "\n",
    "vect.vocabulary_"
   ]
  },
  {
   "cell_type": "code",
   "execution_count": 299,
   "metadata": {},
   "outputs": [
    {
     "data": {
      "text/plain": [
       "17721"
      ]
     },
     "execution_count": 299,
     "metadata": {},
     "output_type": "execute_result"
    }
   ],
   "source": [
    "# Get the features in X_train data set.\n",
    "\n",
    "len(vect.get_feature_names())"
   ]
  },
  {
   "cell_type": "code",
   "execution_count": 266,
   "metadata": {},
   "outputs": [],
   "source": [
    "# Now transfomred the X_train and X_test documents to documents-term matrix.\n",
    "\n",
    "X_train_transformed = vect.transform(X_train)\n",
    "X_test_transformed =vect.transform(X_test)"
   ]
  },
  {
   "cell_type": "code",
   "execution_count": 301,
   "metadata": {},
   "outputs": [],
   "source": [
    "#print(X_test_transformed)"
   ]
  },
  {
   "cell_type": "markdown",
   "metadata": {},
   "source": [
    "Implementing Naive Bayes predictive model for our case to predict class of incoming email."
   ]
  },
  {
   "cell_type": "code",
   "execution_count": 302,
   "metadata": {},
   "outputs": [],
   "source": [
    "# importing BernoulliNB package from sklearn.naive_bayes class.\n",
    "\n",
    "from sklearn.naive_bayes import BernoulliNB\n",
    "\n",
    "#Defining bernoulli NB object bnb.\n",
    "bnb = BernoulliNB()\n",
    "\n",
    "# Fitting the Naive Bayes model into X_train and y_train data set with the use of fit().\n",
    "bnb.fit(X_train_transformed,y_train)\n",
    "\n",
    "# NOw predict email class with use for predict().\n",
    "y_pred_class = bnb.predict(X_test_transformed)\n",
    "\n",
    "# Sicne Naive Bayes algorithm work on probability hence should find  the probality of predicting email class. \n",
    "pred_proba =bnb.predict_proba(X_test_transformed)\n"
   ]
  },
  {
   "cell_type": "markdown",
   "metadata": {},
   "source": [
    "## Check the model accuracy "
   ]
  },
  {
   "cell_type": "code",
   "execution_count": 269,
   "metadata": {},
   "outputs": [
    {
     "data": {
      "text/plain": [
       "0.9310614962788876"
      ]
     },
     "execution_count": 269,
     "metadata": {},
     "output_type": "execute_result"
    }
   ],
   "source": [
    "# Importing metrics package from sklearn library.\n",
    "\n",
    "from sklearn import metrics\n",
    "metrics.accuracy_score(y_test, y_pred_class)"
   ]
  },
  {
   "cell_type": "code",
   "execution_count": 306,
   "metadata": {},
   "outputs": [],
   "source": [
    "#y_test"
   ]
  },
  {
   "cell_type": "code",
   "execution_count": 270,
   "metadata": {},
   "outputs": [
    {
     "data": {
      "text/plain": [
       "array([1, 0, 0, ..., 0, 1, 0], dtype=int64)"
      ]
     },
     "execution_count": 270,
     "metadata": {},
     "output_type": "execute_result"
    }
   ],
   "source": [
    "# Predicting the class of emails.\n",
    "\n",
    "y_pred_class"
   ]
  },
  {
   "cell_type": "code",
   "execution_count": 271,
   "metadata": {},
   "outputs": [
    {
     "data": {
      "text/plain": [
       "array([[1749,  107],\n",
       "       [  69,  628]], dtype=int64)"
      ]
     },
     "execution_count": 271,
     "metadata": {},
     "output_type": "execute_result"
    }
   ],
   "source": [
    "# To Check how our model working with the use of confusion matrix.\n",
    "\n",
    "metrics.confusion_matrix(y_test, y_pred_class)"
   ]
  },
  {
   "cell_type": "code",
   "execution_count": 272,
   "metadata": {},
   "outputs": [
    {
     "name": "stdout",
     "output_type": "stream",
     "text": [
      "[[1749  107]\n",
      " [  69  628]]\n"
     ]
    }
   ],
   "source": [
    "confusion = metrics.confusion_matrix(y_test, y_pred_class)\n",
    "print(confusion)\n",
    "#[row, column]\n",
    "TN = confusion[0, 0]\n",
    "FP = confusion[0, 1]\n",
    "FN = confusion[1, 0]\n",
    "TP = confusion[1, 1]"
   ]
  },
  {
   "cell_type": "code",
   "execution_count": 273,
   "metadata": {},
   "outputs": [
    {
     "data": {
      "text/plain": [
       "628"
      ]
     },
     "execution_count": 273,
     "metadata": {},
     "output_type": "execute_result"
    }
   ],
   "source": [
    "# Check True Positive.\n",
    "TP"
   ]
  },
  {
   "cell_type": "code",
   "execution_count": 274,
   "metadata": {},
   "outputs": [
    {
     "data": {
      "text/plain": [
       "1749"
      ]
     },
     "execution_count": 274,
     "metadata": {},
     "output_type": "execute_result"
    }
   ],
   "source": [
    "# Check   True Negative.\n",
    "TN"
   ]
  },
  {
   "cell_type": "code",
   "execution_count": 275,
   "metadata": {},
   "outputs": [
    {
     "data": {
      "text/plain": [
       "107"
      ]
     },
     "execution_count": 275,
     "metadata": {},
     "output_type": "execute_result"
    }
   ],
   "source": [
    "# Check False Positive.\n",
    "FP"
   ]
  },
  {
   "cell_type": "code",
   "execution_count": 276,
   "metadata": {},
   "outputs": [
    {
     "data": {
      "text/plain": [
       "69"
      ]
     },
     "execution_count": 276,
     "metadata": {},
     "output_type": "execute_result"
    }
   ],
   "source": [
    "# Check False Negative.\n",
    "FN"
   ]
  },
  {
   "cell_type": "markdown",
   "metadata": {},
   "source": [
    "## Now I am testing our Model with random email text from local machine."
   ]
  },
  {
   "cell_type": "markdown",
   "metadata": {},
   "source": [
    "Here we will read a excel file from local machine and will do test if our model is working as per our prediction or not.The test.xlsx file has email body and class but we will focus on email body/text only,Because we need to predict class of these emails."
   ]
  },
  {
   "cell_type": "code",
   "execution_count": 376,
   "metadata": {},
   "outputs": [],
   "source": [
    "# Reading new excel file from local machine into DataFrame name df_text.\n",
    "\n",
    "df_text=pd.read_excel(\"C:\\\\Users\\\\quashain.khan\\\\Desktop\\\\test.xlsx\")"
   ]
  },
  {
   "cell_type": "code",
   "execution_count": 377,
   "metadata": {},
   "outputs": [],
   "source": [
    "#df_text['Label'] = df_text['Label'].map({'CPL':0, 'BW':1})"
   ]
  },
  {
   "cell_type": "code",
   "execution_count": 378,
   "metadata": {},
   "outputs": [
    {
     "data": {
      "text/html": [
       "<div>\n",
       "<style scoped>\n",
       "    .dataframe tbody tr th:only-of-type {\n",
       "        vertical-align: middle;\n",
       "    }\n",
       "\n",
       "    .dataframe tbody tr th {\n",
       "        vertical-align: top;\n",
       "    }\n",
       "\n",
       "    .dataframe thead th {\n",
       "        text-align: right;\n",
       "    }\n",
       "</style>\n",
       "<table border=\"1\" class=\"dataframe\">\n",
       "  <thead>\n",
       "    <tr style=\"text-align: right;\">\n",
       "      <th></th>\n",
       "      <th>text</th>\n",
       "    </tr>\n",
       "  </thead>\n",
       "  <tbody>\n",
       "    <tr>\n",
       "      <th>0</th>\n",
       "      <td>Hello Mysap1,  I am not abe to create po in my...</td>\n",
       "    </tr>\n",
       "    <tr>\n",
       "      <th>1</th>\n",
       "      <td>Hello Mysap1,  please find the below report I ...</td>\n",
       "    </tr>\n",
       "    <tr>\n",
       "      <th>2</th>\n",
       "      <td>Transaction ME53N is not working properly</td>\n",
       "    </tr>\n",
       "    <tr>\n",
       "      <th>3</th>\n",
       "      <td>unable to find commitment servcie entry, po in...</td>\n",
       "    </tr>\n",
       "    <tr>\n",
       "      <th>4</th>\n",
       "      <td>Lanat hy Qushain par</td>\n",
       "    </tr>\n",
       "    <tr>\n",
       "      <th>5</th>\n",
       "      <td>Hello team , I am looking po report</td>\n",
       "    </tr>\n",
       "    <tr>\n",
       "      <th>6</th>\n",
       "      <td>Hi Team, Could you please capex report</td>\n",
       "    </tr>\n",
       "    <tr>\n",
       "      <th>7</th>\n",
       "      <td>fetch contract report</td>\n",
       "    </tr>\n",
       "  </tbody>\n",
       "</table>\n",
       "</div>"
      ],
      "text/plain": [
       "                                                text\n",
       "0  Hello Mysap1,  I am not abe to create po in my...\n",
       "1  Hello Mysap1,  please find the below report I ...\n",
       "2          Transaction ME53N is not working properly\n",
       "3  unable to find commitment servcie entry, po in...\n",
       "4                              Lanat hy Qushain par \n",
       "5                Hello team , I am looking po report\n",
       "6             Hi Team, Could you please capex report\n",
       "7                             fetch contract report "
      ]
     },
     "execution_count": 378,
     "metadata": {},
     "output_type": "execute_result"
    }
   ],
   "source": [
    "# View the top 5 columns of the new DataFrame df_text\n",
    "df_text.head(10)"
   ]
  },
  {
   "cell_type": "code",
   "execution_count": 379,
   "metadata": {},
   "outputs": [],
   "source": [
    "# Copying df_text.text into x_test1 pandas series.\n",
    "x_test1=df_text.text\n",
    "#y_test1=df_text.Label"
   ]
  },
  {
   "cell_type": "code",
   "execution_count": 385,
   "metadata": {},
   "outputs": [],
   "source": [
    "# Check the type of x_test1.\n",
    "#y_test1 "
   ]
  },
  {
   "cell_type": "code",
   "execution_count": 381,
   "metadata": {},
   "outputs": [],
   "source": [
    "# Now we should transformed into sparse matrix.\n",
    "\n",
    "X_test_transformed1 =vect.transform(x_test1)\n",
    "#print(X_test_transformed1)"
   ]
  },
  {
   "cell_type": "code",
   "execution_count": 382,
   "metadata": {},
   "outputs": [
    {
     "data": {
      "text/plain": [
       "array([0, 1, 0, 0, 1, 0, 1, 1], dtype=int64)"
      ]
     },
     "execution_count": 382,
     "metadata": {},
     "output_type": "execute_result"
    }
   ],
   "source": [
    "# NOw we can check the our model prediction for new data set.\n",
    "\n",
    "y_pred_class1 = bnb.predict(X_test_transformed1)\n",
    "y_pred_class1\n"
   ]
  },
  {
   "cell_type": "code",
   "execution_count": 383,
   "metadata": {},
   "outputs": [
    {
     "data": {
      "text/plain": [
       "1.0"
      ]
     },
     "execution_count": 383,
     "metadata": {},
     "output_type": "execute_result"
    }
   ],
   "source": [
    "# To check the accuracy of prediction.\n",
    "\n",
    "metrics.accuracy_score(y_test1, y_pred_class1)"
   ]
  },
  {
   "cell_type": "code",
   "execution_count": 384,
   "metadata": {},
   "outputs": [
    {
     "data": {
      "text/plain": [
       "array([[4, 0],\n",
       "       [0, 4]], dtype=int64)"
      ]
     },
     "execution_count": 384,
     "metadata": {},
     "output_type": "execute_result"
    }
   ],
   "source": [
    "# To Check how our model working to classify new emails with the use of confusion matrix.\n",
    "\n",
    "metrics.confusion_matrix(y_test1, y_pred_class1)"
   ]
  },
  {
   "cell_type": "code",
   "execution_count": null,
   "metadata": {},
   "outputs": [],
   "source": []
  }
 ],
 "metadata": {
  "kernelspec": {
   "display_name": "Python 3",
   "language": "python",
   "name": "python3"
  },
  "language_info": {
   "codemirror_mode": {
    "name": "ipython",
    "version": 3
   },
   "file_extension": ".py",
   "mimetype": "text/x-python",
   "name": "python",
   "nbconvert_exporter": "python",
   "pygments_lexer": "ipython3",
   "version": "3.7.1"
  }
 },
 "nbformat": 4,
 "nbformat_minor": 2
}
