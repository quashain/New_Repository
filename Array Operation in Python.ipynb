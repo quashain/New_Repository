{
 "cells": [
  {
   "cell_type": "markdown",
   "metadata": {},
   "source": [
    "## Array in Python...\n",
    "An Array is an  object that stores agroup of element (or values)of same data type.\n",
    "Arrays can store only type of data.It means you can not store mixed data type element in a single Array.\n",
    "Arrays can increase and descrease their size dyamically. It means when you add a element into existing array it will increase the array size or when you remove a element from existing array it will automaticaly decrease the Array size."
   ]
  },
  {
   "cell_type": "code",
   "execution_count": 2,
   "metadata": {},
   "outputs": [
    {
     "name": "stdout",
     "output_type": "stream",
     "text": [
      "1\n",
      "2\n",
      "3\n",
      "4\n",
      "5\n"
     ]
    }
   ],
   "source": [
    "# Creating An Array..\n",
    "# Syntx.. array_name=array(type code,[element])\n",
    "# First of all inmport array package\n",
    "\n",
    "import array\n",
    "arr=array.array('i',[1,2,3,4,5])\n",
    "# now print the above aar array element.\n",
    "for i in arr:\n",
    "    print(i)"
   ]
  },
  {
   "cell_type": "code",
   "execution_count": 3,
   "metadata": {},
   "outputs": [
    {
     "name": "stdout",
     "output_type": "stream",
     "text": [
      "1\n",
      "2\n",
      "3\n",
      "4\n",
      "5\n"
     ]
    }
   ],
   "source": [
    "# Another way to import all array objects,classes..\n",
    "from array import *\n",
    "\n",
    "arr=array('i',[1,2,3,4,5])\n",
    "# print the array element.\n",
    "for i in arr:\n",
    "    print(i)"
   ]
  },
  {
   "cell_type": "code",
   "execution_count": 6,
   "metadata": {},
   "outputs": [
    {
     "name": "stdout",
     "output_type": "stream",
     "text": [
      "q\n",
      "u\n",
      "a\n",
      "s\n",
      "h\n",
      "a\n",
      "i\n",
      "n\n"
     ]
    }
   ],
   "source": [
    "# Create an Array with group of charcters.\n",
    "arr_char=array('u',['q','u','a','s','h','a','i','n'])\n",
    "# print the arr_char elements..\n",
    "for i in arr_char:\n",
    "    print(i)"
   ]
  },
  {
   "cell_type": "code",
   "execution_count": 8,
   "metadata": {},
   "outputs": [
    {
     "name": "stdout",
     "output_type": "stream",
     "text": [
      "1.0\n",
      "2.0\n",
      "3.0\n",
      "5.0\n",
      "-0.6\n"
     ]
    }
   ],
   "source": [
    "#  create an Array with float values.\n",
    "arr_float=array('d',[1,2,3,5.0,-0.6])\n",
    "# print the float array element\n",
    "\n",
    "for i in arr_float:\n",
    "    print(i)"
   ]
  },
  {
   "cell_type": "code",
   "execution_count": 14,
   "metadata": {},
   "outputs": [
    {
     "name": "stdout",
     "output_type": "stream",
     "text": [
      "3\n",
      "6\n",
      "9\n",
      "12\n",
      "15\n",
      "18\n",
      "21\n"
     ]
    }
   ],
   "source": [
    "# Create a Array with the  use of same array.\n",
    "# the new array will have same data type and number of element.\n",
    "# creating int data type array arr1.\n",
    "arr1=array('i',[1,2,3,4,5,6,7])\n",
    "\n",
    "# Now we are trying to create new array name arr2 which is multipy by 3 of  array arr1.\n",
    "\n",
    "arr2=array(arr1.typecode,(3*i for i in arr1))\n",
    "\n",
    "# print arr2 elements..\n",
    "for i in arr2:\n",
    "    print(i)"
   ]
  },
  {
   "cell_type": "markdown",
   "metadata": {},
   "source": [
    "### Indexing and Slicing on Arrays:\n",
    "\n",
    "An index represents the  position number of an element in an array.\n",
    "Position start from 0 to n-1 here n is number of element for the same array.\n",
    "[0][1][2]....[n-1]\n"
   ]
  },
  {
   "cell_type": "code",
   "execution_count": 28,
   "metadata": {},
   "outputs": [
    {
     "name": "stdout",
     "output_type": "stream",
     "text": [
      "1 2 3 4 5 "
     ]
    }
   ],
   "source": [
    "## Retrive an element from Array.\n",
    "\n",
    "x=array('i',[1,2,3,4,5])\n",
    "# find the number of element in array:\n",
    "n=len(x)\n",
    "\n",
    "# display array elements using indexing:\n",
    "for i in range(n):\n",
    "    #print(\"element {} in {}th  position\".format(x[i], i))\n",
    "    print(x[i],end=\" \")"
   ]
  },
  {
   "cell_type": "code",
   "execution_count": 4,
   "metadata": {},
   "outputs": [
    {
     "name": "stdout",
     "output_type": "stream",
     "text": [
      "1 2 3 4 5 6 "
     ]
    }
   ],
   "source": [
    "## Rtrieving array elements  using while loop..\n",
    "x=array('i',[1,2,3,4,5,6])\n",
    "# find the numbe of elements in arrays:\n",
    "n=len(x)\n",
    "# Display list of elements using while loop:\n",
    "i=0\n",
    "while i<n:\n",
    "    print(x[i],end=\" \")\n",
    "    i+=1\n"
   ]
  },
  {
   "cell_type": "markdown",
   "metadata": {},
   "source": [
    "### Slicing of Array..\n",
    "A Slice represents a piece of the array. When we perform 'slicing' operation on any array, \n",
    "we can retrieve a piece of the array that contains a group of elements.\n",
    "arrayname[start:stop:stride/steps]"
   ]
  },
  {
   "cell_type": "code",
   "execution_count": 18,
   "metadata": {},
   "outputs": [
    {
     "name": "stdout",
     "output_type": "stream",
     "text": [
      "array('i', [2, 3, 4])\n",
      "array('i', [3, 4, 5, 6])\n"
     ]
    }
   ],
   "source": [
    "# Python program that helps to know the effects of slicing operation:\n",
    "# Create an array y that contains elements 1st to 3rd from array x\n",
    "y=x[1:4]\n",
    "print(y)\n",
    "\n",
    "# create an array with last 4 elements from x:\n",
    "y=x[-4:]\n",
    "print(a)"
   ]
  },
  {
   "cell_type": "markdown",
   "metadata": {},
   "source": [
    "## Operation on Array::\n",
    "a.append(x)  ::>  Adds an elements x at the end of the existing array a.<br>\n",
    "a.count(x)   ::> Returns the number of occurrences of x in the array a.<br>\n",
    "a.extend(x)  ::> Append x at the end of the exiting array a. 'x' can be anothe array or iterable objcet.<br>\n",
    "a.index(x)   ::> Returns the position number of the first occurrence of x in array. raise valueError if not found.<br>\n",
    "a.insert(i,x)::> Insert x in position i in array a.<br>\n",
    "a.pop(x)     ::>  Remove the item x from the array a and returns it.<br>\n",
    "a.pop()      ::> Remove the last item from array a.<br>\n",
    "a.remove(x)  ::> Remove the first occurrence of x in the array a. raises ValueError in not found.<br>\n",
    "a.reverse()  ::> Reverse the order of the elements in the array a.<br>\n",
    "a.tofile(f)  ::> Write the array a into file f.<br>\n",
    "a.tolist()   ::> Convert the array a into list.<br>\n",
    "a.tostring() ::> Convert the array a into string.<br>"
   ]
  },
  {
   "cell_type": "code",
   "execution_count": 65,
   "metadata": {},
   "outputs": [
    {
     "name": "stdout",
     "output_type": "stream",
     "text": [
      "Before appending  array('i', [10, 20, 30, 40, 50, 60])\n",
      " After append 70 into array  array('i', [10, 20, 30, 40, 50, 60, 70]) "
     ]
    }
   ],
   "source": [
    "#a.append(x)  ::>  Adds an elements x at the end of the existing array a.\n",
    "a=array('i',[10,20,30,40,50,60])\n",
    "print(\"Before appending \",a,end=\"\\n\")\n",
    "# append 70 at end of the array\n",
    "a.append(70)\n",
    "print(\" After append 70 into array \",a , end=\" \")"
   ]
  },
  {
   "cell_type": "code",
   "execution_count": 68,
   "metadata": {},
   "outputs": [
    {
     "name": "stdout",
     "output_type": "stream",
     "text": [
      "Number of occurence of element 1 in Array array('i', [10, 20, 30, 40, 50, 60, 70]) \n"
     ]
    }
   ],
   "source": [
    "#a.count(x)   ::> Returns the number of occurrences of x in the array a.\n",
    "\n",
    "print(\"Number of occurence of element {} in Array {} \".format(a.count(50),a))"
   ]
  },
  {
   "cell_type": "code",
   "execution_count": 70,
   "metadata": {},
   "outputs": [
    {
     "name": "stdout",
     "output_type": "stream",
     "text": [
      " Element found at Position 2th in array array('i', [10, 20, 30, 40, 50, 60, 70])\n"
     ]
    }
   ],
   "source": [
    "#a.index(x)   ::> Returns the position number of the first occurrence of x in array. raise valueError if not found.\n",
    "print(\" Element found at Position {}th in array {}\".format(a.index(30),a))"
   ]
  },
  {
   "cell_type": "code",
   "execution_count": 90,
   "metadata": {},
   "outputs": [
    {
     "name": "stdout",
     "output_type": "stream",
     "text": [
      " Enter element you want to enter\n",
      "9000\n",
      " Enter the array position you want insert that elemnet\n",
      "9\n",
      " Element 9000 has been inserted at position 9 into array array('i', [10, 20, 30, 50, 60, 70, 900, 9000])\n"
     ]
    }
   ],
   "source": [
    "#a.insert(i,x)::> Insert x in position i in array a.\n",
    "print(\" Enter element you want to enter\")\n",
    "n=int(input())\n",
    "print(\" Enter the array position you want insert that elemnet\")\n",
    "i=int(input())\n",
    "a.insert(i,n)\n",
    "print(\" Element {} has been inserted at position {} into array {}\".format(n,i,a))"
   ]
  },
  {
   "cell_type": "code",
   "execution_count": 86,
   "metadata": {},
   "outputs": [
    {
     "name": "stdout",
     "output_type": "stream",
     "text": [
      " enter index you want to remove element\n",
      "5\n",
      " Element 590 has been removed from index 5\n"
     ]
    }
   ],
   "source": [
    "#a.pop(x)     ::>  Remove the item x from the array a and returns it.\n",
    "print(\" enter index you want to remove element\")\n",
    "i=int(input())\n",
    "print(\" Element {} has been removed from index {}\".format(a.pop(i),i))"
   ]
  },
  {
   "cell_type": "code",
   "execution_count": 91,
   "metadata": {},
   "outputs": [
    {
     "name": "stdout",
     "output_type": "stream",
     "text": [
      " Remove last item from array 9000\n"
     ]
    }
   ],
   "source": [
    "#a.pop()      ::> Remove the last item from array a\n",
    "print(\" Remove last item from array {}\".format(a.pop()))"
   ]
  },
  {
   "cell_type": "code",
   "execution_count": 93,
   "metadata": {},
   "outputs": [
    {
     "name": "stdout",
     "output_type": "stream",
     "text": [
      " Enter the valule you want to remove\n",
      "50\n",
      " Element 50 has been removed from the array array('i', [10, 20, 30, 60, 70, 900])\n"
     ]
    }
   ],
   "source": [
    "#a.remove(x)  ::> Remove the first occurrence of x in the array a. raises ValueError in not found.\n",
    "print(\" Enter the valule you want to remove\")\n",
    "n=int(input())\n",
    "try:\n",
    "    a.remove(n)\n",
    "    print(\" Element {} has been removed from the array {}\".format(n,a))\n",
    "except ValueError:\n",
    "    print(\"Requested element does not exist into array {}\".format(a))\n",
    "    "
   ]
  },
  {
   "cell_type": "code",
   "execution_count": 97,
   "metadata": {},
   "outputs": [
    {
     "name": "stdout",
     "output_type": "stream",
     "text": [
      " Orignal Array array('i', [10, 20, 30, 60, 70, 900])\n",
      " new array after reverse array('i', [900, 70, 60, 30, 20, 10])\n"
     ]
    }
   ],
   "source": [
    "#a.reverse()  ::> Reverse the order of the elements in the array a.\n",
    "print(\" Orignal Array {}\".format(a),end=\"\\n\")\n",
    "a.reverse()\n",
    "print(\" new array after reverse {}\".format(a))"
   ]
  },
  {
   "cell_type": "code",
   "execution_count": 98,
   "metadata": {},
   "outputs": [
    {
     "name": "stdout",
     "output_type": "stream",
     "text": [
      " Array before converting to list array('i', [900, 70, 60, 30, 20, 10])\n",
      " Array after converting to list array('i', [900, 70, 60, 30, 20, 10])\n"
     ]
    }
   ],
   "source": [
    "#a.tolist()   ::> Convert the array a into list.\n",
    "print(\" Array before converting to list {}\".format(a))\n",
    "a.tolist()\n",
    "print(\" Array after converting to list {}\".format(a))"
   ]
  },
  {
   "cell_type": "code",
   "execution_count": 100,
   "metadata": {},
   "outputs": [
    {
     "data": {
      "text/plain": [
       "array.array"
      ]
     },
     "execution_count": 100,
     "metadata": {},
     "output_type": "execute_result"
    }
   ],
   "source": [
    "type(a)"
   ]
  },
  {
   "cell_type": "code",
   "execution_count": 24,
   "metadata": {},
   "outputs": [
    {
     "name": "stdout",
     "output_type": "stream",
     "text": [
      " Enter marks90 90 90 90\n",
      "90\n",
      "90\n",
      "90\n",
      "90\n",
      " Total Marks = 360\n",
      " Percentage of Makrs = 90.0\n"
     ]
    }
   ],
   "source": [
    "# Write a python program to accept student marks and find the total number and percentage of marks:\n",
    "from array import *\n",
    "str= input(\" Enter marks\").split(' ')\n",
    "# store that marks into array\n",
    "marks=[int(num) for num in str]\n",
    "# Display the stundent marks:\n",
    "sum=0\n",
    "for x in marks:\n",
    "    print(x)\n",
    "    sum+=x\n",
    "print(\" Total Marks =\",sum)\n",
    "# percentage of marks\n",
    "n =len(marks)\n",
    "percent=sum/n\n",
    "print(\" Percentage of Makrs =\",percent)"
   ]
  },
  {
   "cell_type": "markdown",
   "metadata": {},
   "source": [
    "## Sorting an Array in ascending order using Bubble sort ::\n"
   ]
  },
  {
   "cell_type": "code",
   "execution_count": 44,
   "metadata": {},
   "outputs": [
    {
     "name": "stdout",
     "output_type": "stream",
     "text": [
      " Enter how many elements you want in array to sort ? 4\n",
      " enter elemnet\n",
      "4\n",
      " enter elemnet\n",
      "3\n",
      " enter elemnet\n",
      "2\n",
      " enter elemnet\n",
      "1\n",
      " Orignal Array  array('i', [4, 3, 2, 1])\n",
      " after sorting  array('i', [1, 2, 3, 4]) "
     ]
    }
   ],
   "source": [
    "# Writing a python program to sort an array in ascending order using Bubbe Sort technique.\n",
    "# create an empty array\n",
    "x=array('i',[])\n",
    "# store element in to array\n",
    "print(\" Enter how many elements you want in array to sort ?\",end=' ')\n",
    "n=int(input())\n",
    "for i in range(n):\n",
    "    print(\" enter elemnet\")\n",
    "    x.append(int(input()))\n",
    "print(\" Orignal Array \",x, end=\"\\n\")\n",
    "for i in range(n-1):\n",
    "    for j in range(n-1-i):\n",
    "        if x[j]>x[j+1]:\n",
    "            t=x[j]\n",
    "            x[j]=x[j+1]\n",
    "            x[j+1]=t\n",
    "print(\" After sorting \",x ,end=\" \")"
   ]
  },
  {
   "cell_type": "markdown",
   "metadata": {},
   "source": [
    "## Searching an element and return positon of found element"
   ]
  },
  {
   "cell_type": "code",
   "execution_count": 55,
   "metadata": {},
   "outputs": [
    {
     "name": "stdout",
     "output_type": "stream",
     "text": [
      " enter number of elements fill into array x\n",
      "4\n",
      " enter element\n",
      "2\n",
      " enter element\n",
      "3\n",
      " enter element\n",
      "4\n",
      " enter element\n",
      "5\n",
      " orignal Array array('i', [2, 3, 4, 5])\n",
      " enter the element you want to search in array x\n",
      "6\n",
      " Searched element not found in array x\n"
     ]
    }
   ],
   "source": [
    "# Creat an empty array\n",
    "x=array('i',[])\n",
    "print(\" enter number of elements fill into array x\")\n",
    "n=int(input())\n",
    "# file integer element into array:\n",
    "for i in range(n):\n",
    "    print(\" enter element\")\n",
    "    x.append(int(input()))\n",
    "print(\" orignal Array\",x, end=\"\\n\")\n",
    "# Searching an element into array x linear search.\n",
    "print(\" enter the element you want to search in array x\")\n",
    "s=int(input())\n",
    "flag=False\n",
    "for i in range(len(x)):\n",
    "    if s==x[i]:\n",
    "        print(\" element {} found at position {}\".format(s,i+1))\n",
    "        flag=True\n",
    "if flag==False:\n",
    "    print(\" Searched element not found in array x\")\n",
    "        "
   ]
  },
  {
   "cell_type": "code",
   "execution_count": 58,
   "metadata": {},
   "outputs": [
    {
     "name": "stdout",
     "output_type": "stream",
     "text": [
      " enter number of elements fill into array x\n",
      "4\n",
      " enter element\n",
      "3\n",
      " enter element\n",
      "4\n",
      " enter element\n",
      "5\n",
      " enter element\n",
      "6\n",
      " orignal Array array('i', [3, 4, 5, 6])\n",
      " enter the element you want to search in array x\n",
      "7\n",
      " Searched element not found in array x\n"
     ]
    }
   ],
   "source": [
    "## Searching element in array using index() method\n",
    "\n",
    "# Creat an empty array\n",
    "x=array('i',[])\n",
    "print(\" enter number of elements fill into array x\")\n",
    "n=int(input())\n",
    "# file integer element into array:\n",
    "for i in range(n):\n",
    "    print(\" enter element\")\n",
    "    x.append(int(input()))\n",
    "print(\" orignal Array\",x, end=\"\\n\")\n",
    "# Searching an element into array x\n",
    "print(\" enter the element you want to search in array x\")\n",
    "s=int(input())\n",
    "try:\n",
    "    pos=x.index(s)\n",
    "    print(\" element {} found at position {}\".format(s,pos+1))\n",
    "        \n",
    "except ValueError:\n",
    "    print(\" Searched element not found in array x\")\n",
    "        "
   ]
  },
  {
   "cell_type": "markdown",
   "metadata": {},
   "source": [
    "### Wite a Function to find an element from an existing Array"
   ]
  },
  {
   "cell_type": "code",
   "execution_count": 62,
   "metadata": {},
   "outputs": [
    {
     "name": "stdout",
     "output_type": "stream",
     "text": [
      " enter number of elements fill into array x\n",
      "3\n",
      " enter element\n",
      "2\n",
      " enter element\n",
      "3\n",
      " enter element\n",
      "1\n",
      " orignal Array array('i', [2, 3, 1])\n",
      " enter the element you want to search in array x\n",
      "9\n",
      " Searched element not found in array x\n"
     ]
    }
   ],
   "source": [
    "def find_element():\n",
    "    ## Searching element in array using index() method\n",
    "\n",
    "    # Creat an empty array\n",
    "    x=array('i',[])\n",
    "    print(\" enter number of elements fill into array x\")\n",
    "    n=int(input())\n",
    "    # file integer element into array:\n",
    "    for i in range(n):\n",
    "        print(\" enter element\")\n",
    "        x.append(int(input()))\n",
    "    print(\" orignal Array\",x, end=\"\\n\")\n",
    "# Searching an element into array x\n",
    "    print(\" enter the element you want to search in array x\")\n",
    "    s=int(input())\n",
    "    try:\n",
    "        pos=x.index(s)\n",
    "        print(\" element {} found at position {}\".format(s,pos+1))\n",
    "        \n",
    "    except ValueError:\n",
    "        print(\" Searched element not found in array x\")\n",
    "        \n",
    "find_element()"
   ]
  }
 ],
 "metadata": {
  "kernelspec": {
   "display_name": "Python 3",
   "language": "python",
   "name": "python3"
  },
  "language_info": {
   "codemirror_mode": {
    "name": "ipython",
    "version": 3
   },
   "file_extension": ".py",
   "mimetype": "text/x-python",
   "name": "python",
   "nbconvert_exporter": "python",
   "pygments_lexer": "ipython3",
   "version": "3.7.1"
  }
 },
 "nbformat": 4,
 "nbformat_minor": 2
}
